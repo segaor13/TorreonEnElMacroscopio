{
 "cells": [
  {
   "cell_type": "markdown",
   "metadata": {},
   "source": [
    "# Web Scraping: Titulares (1/2)\n",
    "Actualizado al 09/12/2023"
   ]
  },
  {
   "cell_type": "code",
   "execution_count": 1,
   "metadata": {},
   "outputs": [],
   "source": [
    "#Importes necesarios\n",
    "from selenium import webdriver\n",
    "from selenium.webdriver.firefox.service import Service\n",
    "import time\n",
    "import datetime\n",
    "from bs4 import BeautifulSoup\n",
    "import pymysql as sql\n",
    "import pymysql.cursors"
   ]
  },
  {
   "cell_type": "code",
   "execution_count": 2,
   "metadata": {},
   "outputs": [],
   "source": [
    "#Conectar a la base de datos en MySQL local\n",
    "conn = sql.connect(\n",
    "    host=\"localhost\",\n",
    "    port=3306,\n",
    "    user=\"root\",\n",
    "    passwd=#Password,\n",
    "    db=#BaseDeDatos)\n",
    "cursor = conn.cursor()\n",
    "cursorclass = pymysql.cursors.DictCursor"
   ]
  },
  {
   "cell_type": "code",
   "execution_count": 3,
   "metadata": {
    "scrolled": true
   },
   "outputs": [],
   "source": [
    "#Define la función principal para el scraping de titulares y enlaces a notas individuales\n",
    "def scrap_titular_y_html(start_date):\n",
    "    fecha = fecha_inicio.strftime(\"%Y-%m-%d\")\n",
    "    url = \"https://www.elsiglodetorreon.com.mx/archivo/?fecha=\" + fecha\n",
    "    service = Service(executable_path=r'Dirección al ejecutable de Gecko')\n",
    "    driver = webdriver.Firefox(service=service)\n",
    "    driver.get(url)\n",
    "    time.sleep(5)\n",
    "    html = driver.page_source\n",
    "    soup = BeautifulSoup(html, 'lxml')\n",
    "\n",
    "    #Limita la búsqueda únicamente al div con id = resultados\n",
    "    div = soup.find('div', id='resultados')\n",
    "    \n",
    "    #Realiza la conexión a la base de datos e inicia la búsqueda de resultados. \n",
    "    with conn.cursor() as cursor:\n",
    "        #Encuentra todos los elementos <li> dentro del div con id=resultados\n",
    "        for nota in div.find_all('li'):\n",
    "            #Encuentra todos los enlaces dentro de cada <li>\n",
    "            for href in nota.find_all('a'):\n",
    "                enlace = href['href']\n",
    "                enlace_completo = \"https://www.elsiglodetorreon.com.mx\" + enlace \n",
    "\n",
    "            #Encuentra los textos (titulares) dentro de las etiquetas <strong>         \n",
    "            for titular in nota.find_all('strong'):\n",
    "                titular_texto = titular.text\n",
    "        #Introduce los datos en la base de datos 'siglodb'\n",
    "            orden = \"INSERT INTO `siglodb_original` (`titular`, `fecha`, `enlace` ) VALUES (%s, %s, %s)\"\n",
    "            cursor.execute(orden, (titular_texto, fecha, enlace_completo))\n",
    "        driver.close()\n",
    "    conn.commit()       \n"
   ]
  },
   ],
   "source": [
    "#Variabilización de las fechas y ejecución de la función\n",
    "fecha_inicio = datetime.date(2018, 7, 15)\n",
    "fecha_fin = datetime.date(2018, 7, 15)\n",
    "delta = datetime.timedelta(days=1)\n",
    "\n",
    "while fecha_inicio <= fecha_fin:\n",
    "    scrap_titular_y_html(fecha_inicio)\n",
    "    fecha_inicio += delta"
   ]
  }
 ],
 "metadata": {
  "kernelspec": {
   "display_name": "Python 3",
   "language": "python",
   "name": "python3"
  },
  "language_info": {
   "codemirror_mode": {
    "name": "ipython",
    "version": 3
   },
   "file_extension": ".py",
   "mimetype": "text/x-python",
   "name": "python",
   "nbconvert_exporter": "python",
   "pygments_lexer": "ipython3",
   "version": "3.8.5"
  }
 },
 "nbformat": 4,
 "nbformat_minor": 4
}
