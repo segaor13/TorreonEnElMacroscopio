{
 "cells": [
  {
   "cell_type": "markdown",
   "metadata": {},
   "source": [
    "# WebScraping: Notas completas 2/2\n",
    "Actualizado al 09/12/2023"
   ]
  },
  {
   "cell_type": "code",
   "execution_count": 1,
   "metadata": {},
   "outputs": [],
   "source": [
    "#Importes necesarios\n",
    "import pymysql as sql\n",
    "from urllib.request import urlopen\n",
    "from bs4 import BeautifulSoup"
   ]
  },
  {
   "cell_type": "code",
   "execution_count": 2,
   "metadata": {},
   "outputs": [],
   "source": [
    "#Conectar a la base de datos en MySQL local\n",
    "conn = sql.connect(\n",
    "    host=\"localhost\",\n",
    "    port=3306,\n",
    "    user=\"root\",\n",
    "    passwd=#Password,\n",
    "    db=#BaseDeDatos)\n",
    "cursor = conn.cursor()"
   ]
  },
  {
   "cell_type": "code",
   "execution_count": 11,
   "metadata": {},
   "outputs": [
    {
     "name": "stdout",
     "output_type": "stream",
     "text": [
      "Error en el intento 1709978: 'NoneType' object has no attribute 'text'\n",
      "Error en el intento 1709979: 'NoneType' object has no attribute 'text'\n",
      "Error en el intento 1710022: 'NoneType' object has no attribute 'text'\n",
      "Error en el intento 1710023: 'NoneType' object has no attribute 'text'\n"
     ]
    }
   ],
   "source": [
    "#Acceder, seleccionar y variabilizar el url para scraping\n",
    "with conn.cursor() as cursor: \n",
    "    i=1709866\n",
    "    while i<1710028:\n",
    "        try:\n",
    "            #Seleccionar URL de base de datos\n",
    "            cursor.execute(\"SELECT `enlace` FROM `siglodb_original` WHERE id=(%s)\",(i))\n",
    "            url_obtenido = cursor.fetchone()\n",
    "            #Quitar paréntesis y comillas de URL resultante\n",
    "            result1 = str(url_obtenido).replace(\"',)\", \"\")\n",
    "            url_obtenido_texto = str(result1).replace(\"('\",\"\")\n",
    "            \n",
    "            #Seleccionar información\n",
    "            html = urlopen(url_obtenido_texto)\n",
    "            soup = BeautifulSoup(html, 'lxml')\n",
    "            seccion = soup.find('p',{'class': 'seccion uppercase'})\n",
    "            titular = soup.find('h1')\n",
    "            balazo = soup.find('h2')\n",
    "            autor = soup.find('a',{'class': 'bold mr-2 text-decoration-none'})\n",
    "            primer_parrafo = soup.find('main',{'id': 'lanota'})\n",
    "            cuerpo = primer_parrafo.text\n",
    "            #Pendiente borrar redes sociales\n",
    "            if seccion is None:\n",
    "                pass\n",
    "            else:\n",
    "                seccion_strip = seccion.get_text().strip()\n",
    "                cursor.execute(\"UPDATE `siglodb_original` SET `seccion` = (%s) WHERE `id` = (%s)\", (seccion_strip,i))\n",
    "            if titular is None:\n",
    "                pass\n",
    "            else:\n",
    "                titular_strip = titular.get_text().strip()\n",
    "                cursor.execute(\"UPDATE `siglodb_original` SET `titular` = (%s) WHERE `id` = (%s)\", (titular_strip,i))\n",
    "            if balazo is None:\n",
    "                pass\n",
    "            else:\n",
    "                balazo_strip = balazo.get_text().strip()\n",
    "                cursor.execute(\"UPDATE `siglodb_original` SET `balazo` = (%s) WHERE `id` = (%s)\", (balazo_strip,i))\n",
    "            if autor is None:\n",
    "                pass\n",
    "            else:\n",
    "                autor_strip = autor.get_text().strip()\n",
    "                cursor.execute(\"UPDATE `siglodb_original` SET `autor` = (%s) WHERE `id` = (%s)\", (autor_strip,i))\n",
    "            if primer_parrafo is None:\n",
    "                pass\n",
    "            else:\n",
    "                primer_parrafo_strip = primer_parrafo.get_text().strip()\n",
    "                cursor.execute(\"UPDATE `siglodb_original` SET `primer_parrafo` = (%s) WHERE `id` = (%s)\", (primer_parrafo_strip,i))\n",
    "            if cuerpo is None:\n",
    "                pass\n",
    "            else:\n",
    "                primer_parrafo_strip = primer_parrafo.get_text().strip()\n",
    "                cursor.execute(\"UPDATE `siglodb_original` SET `primer_parrafo` = (%s) WHERE `id` = (%s)\", (primer_parrafo_strip,i))    \n",
    "            i += 1\n",
    "            conn.commit()\n",
    "        except Exception as e:\n",
    "            print(f\"Error en el intento {i}: {str(e)}\")\n",
    "            i += 1  # Incrementa i en caso de error\n",
    "            "
   ]
  }
 ],
 "metadata": {
  "kernelspec": {
   "display_name": "Python 3",
   "language": "python",
   "name": "python3"
  },
  "language_info": {
   "codemirror_mode": {
    "name": "ipython",
    "version": 3
   },
   "file_extension": ".py",
   "mimetype": "text/x-python",
   "name": "python",
   "nbconvert_exporter": "python",
   "pygments_lexer": "ipython3",
   "version": "3.8.5"
  }
 },
 "nbformat": 4,
 "nbformat_minor": 4
}
