{
 "cells": [
  {
   "cell_type": "markdown",
   "metadata": {
    "editable": true,
    "slideshow": {
     "slide_type": ""
    },
    "tags": []
   },
   "source": [
    "# Código para la lematización, modelado de tópicos y visualización de datos"
   ]
  },
  {
   "cell_type": "markdown",
   "metadata": {
    "editable": true,
    "slideshow": {
     "slide_type": ""
    },
    "tags": []
   },
   "source": [
    "### Importes Necesarios"
   ]
  },
  {
   "cell_type": "code",
   "execution_count": 1,
   "metadata": {
    "editable": true,
    "slideshow": {
     "slide_type": ""
    },
    "tags": []
   },
   "outputs": [
    {
     "name": "stderr",
     "output_type": "stream",
     "text": [
      "C:\\Users\\Sergio\\anaconda3\\lib\\site-packages\\h5py\\__init__.py:46: DeprecationWarning: `np.typeDict` is a deprecated alias for `np.sctypeDict`.\n",
      "  from ._conv import register_converters as _register_converters\n",
      "2024-02-10 11:48:08 INFO: Checking for updates to resources.json in case models have been updated.  Note: this behavior can be turned off with download_method=None or download_method=DownloadMethod.REUSE_RESOURCES\n"
     ]
    },
    {
     "data": {
      "application/vnd.jupyter.widget-view+json": {
       "model_id": "597baba893434e1cb15d91d81ffee487",
       "version_major": 2,
       "version_minor": 0
      },
      "text/plain": [
       "HBox(children=(HTML(value='Downloading https://raw.githubusercontent.com/stanfordnlp/stanza-resources/main/res…"
      ]
     },
     "metadata": {},
     "output_type": "display_data"
    },
    {
     "name": "stdout",
     "output_type": "stream",
     "text": [
      "\n"
     ]
    },
    {
     "name": "stderr",
     "output_type": "stream",
     "text": [
      "2024-02-10 11:48:11 INFO: Loading these models for language: es (Spanish):\n",
      "==================================\n",
      "| Processor    | Package         |\n",
      "----------------------------------\n",
      "| tokenize     | ancora          |\n",
      "| mwt          | ancora          |\n",
      "| pos          | ancora_charlm   |\n",
      "| lemma        | ancora_nocharlm |\n",
      "| constituency | combined_charlm |\n",
      "| depparse     | ancora_charlm   |\n",
      "| sentiment    | tass2020        |\n",
      "| ner          | conll02         |\n",
      "==================================\n",
      "\n",
      "2024-02-10 11:48:11 WARNING: GPU requested, but is not available!\n",
      "2024-02-10 11:48:11 INFO: Using device: cpu\n",
      "2024-02-10 11:48:11 INFO: Loading: tokenize\n",
      "C:\\Users\\Sergio\\anaconda3\\lib\\site-packages\\sympy\\core\\cache.py:52: DeprecationWarning: distutils Version classes are deprecated. Use packaging.version instead.\n",
      "  if V(fastcache.__version__) < '0.4.0':\n",
      "C:\\Users\\Sergio\\anaconda3\\lib\\site-packages\\setuptools\\_distutils\\version.py:345: DeprecationWarning: distutils Version classes are deprecated. Use packaging.version instead.\n",
      "  other = LooseVersion(other)\n",
      "2024-02-10 11:48:14 INFO: Loading: mwt\n",
      "2024-02-10 11:48:14 INFO: Loading: pos\n",
      "2024-02-10 11:48:14 INFO: Loading: lemma\n",
      "2024-02-10 11:48:14 INFO: Loading: constituency\n",
      "2024-02-10 11:48:15 INFO: Loading: depparse\n",
      "2024-02-10 11:48:16 INFO: Loading: sentiment\n",
      "2024-02-10 11:48:16 INFO: Loading: ner\n",
      "2024-02-10 11:48:17 INFO: Done loading processors!\n"
     ]
    }
   ],
   "source": [
    "#Numpy and Pandas (necesarios para Spacy)\n",
    "import numpy as np\n",
    "import pandas as pd\n",
    "\n",
    "#gensim\n",
    "import gensim\n",
    "import gensim.corpora as corpora\n",
    "from gensim.utils import simple_preprocess\n",
    "from gensim.models import CoherenceModel\n",
    "from gensim.models import LdaModel\n",
    "from gensim.corpora import Dictionary\n",
    "\n",
    "#NLTK\n",
    "from nltk.corpus import stopwords\n",
    "\n",
    "#vis\n",
    "import pyLDAvis\n",
    "import pyLDAvis.gensim\n",
    "\n",
    "#spacy y stanza\n",
    "import stanza\n",
    "import spacy_stanza\n",
    "nlp = spacy_stanza.load_pipeline(\"es\", disable=['parser','ner'])\n",
    "\n",
    "#mysql\n",
    "import pymysql as sql\n",
    "import pymysql.cursors\n",
    "\n",
    "#extras\n",
    "import warnings\n",
    "warnings.filterwarnings(\"ignore\", category=DeprecationWarning)"
   ]
  },
  {
   "cell_type": "markdown",
   "metadata": {},
   "source": [
    "## Conexión MySQL"
   ]
  },
  {
   "cell_type": "code",
   "execution_count": 2,
   "metadata": {},
   "outputs": [],
   "source": [
    "#Conectar a la base de datos en MySQL local\n",
    "conn = sql.connect(\n",
    "    host=\"localhost\",\n",
    "    port=3306,\n",
    "    user=\"root\",\n",
    "    passwd=\"Password1234!\",\n",
    "    db=\"siglodb_2002-2022\")\n",
    "cursor = conn.cursor()\n",
    "cursorclass = pymysql.cursors.DictCursor\n",
    "query = \"SELECT titular FROM `siglodb_2002-2022`.siglodb2022 WHERE seccion = 'Internacional';\"\n",
    "cursor.execute(query)\n",
    "data = cursor.fetchall()\n",
    "cursor.close()\n",
    "conn.close()\n",
    "\n",
    "titulares = [row[0] for row in data]\n"
   ]
  },
  {
   "cell_type": "markdown",
   "metadata": {},
   "source": [
    "## Preparación de los datos"
   ]
  },
  {
   "cell_type": "code",
   "execution_count": 3,
   "metadata": {},
   "outputs": [],
   "source": [
    "#Limpia de manera general los textos (puntuación, minúsculas, etc.)\n",
    "def gen_words(texts):\n",
    "    final = []\n",
    "    for text in texts:\n",
    "        new = gensim.utils.simple_preprocess(text, deacc=True)\n",
    "        final.append(new)\n",
    "    return (final)\n",
    "\n",
    "data_words = gen_words(titulares)"
   ]
  },
  {
   "cell_type": "code",
   "execution_count": 4,
   "metadata": {},
   "outputs": [],
   "source": [
    "# Remueve las palabras de uso común\n",
    "def remove_stopwords(texts):\n",
    "    return [[word for word in simple_preprocess(str(doc)) if word not in stop_words] for doc in texts]\n",
    "\n",
    "\n",
    "stop_words = stopwords.words('spanish')\n",
    "stop_words.extend(['cada', 'mil', 'tras'])\n",
    "data_words_nostops = remove_stopwords(data_words)"
   ]
  },
  {
   "cell_type": "code",
   "execution_count": null,
   "metadata": {},
   "outputs": [],
   "source": [
    "# # Reconocimiento de entidades nombradas\n",
    "# def ner(texts):\n",
    "#     lista = []\n",
    "#     for text in texts:\n",
    "#         ner_doc = nlp(\" \".join(text)) \n",
    "#         lista.append([{ent.text} for token in ner_doc])\n",
    "#     return lista\n",
    "\n",
    "# named_entities = ner(data_words)\n",
    "\n",
    "# print (named_entities)"
   ]
  },
  {
   "cell_type": "code",
   "execution_count": null,
   "metadata": {},
   "outputs": [],
   "source": [
    "#Lematización de los textos limpios\n",
    "def lemmatization(texts):\n",
    "    texts_out = []\n",
    "    i = 0\n",
    "    for text in texts:\n",
    "        doc = nlp(\" \".join(text)) \n",
    "        texts_out.append([token.lemma_ for token in doc])\n",
    "        print (i)\n",
    "        i = i+1\n",
    "    return texts_out\n",
    "\n",
    "data_lemmatized = lemmatization(data_words_nostops)"
   ]
  },
  {
   "cell_type": "code",
   "execution_count": 6,
   "metadata": {},
   "outputs": [],
   "source": [
    "# Genera el modelo y ejecuta la función para la creación de bigramas y trigramas\n",
    "bigram = gensim.models.Phrases(data_lemmatized, min_count=5, threshold=50)\n",
    "trigram = gensim.models.Phrases(bigram[data_lemmatized], threshold=50)  \n",
    "bigram_mod = gensim.models.phrases.Phraser(bigram)\n",
    "trigram_mod = gensim.models.phrases.Phraser(trigram)\n",
    "\n",
    "def make_bigrams(texts):\n",
    "    return [bigram_mod[doc] for doc in texts]\n",
    "\n",
    "def make_trigrams(texts):\n",
    "    return [trigram_mod[bigram_mod[doc]] for doc in texts]\n",
    "\n",
    "data_words_bigrams = make_bigrams(data_lemmatized)\n",
    "data_words_trigrams = make_trigrams(data_words_bigrams)"
   ]
  },
  {
   "cell_type": "code",
   "execution_count": 7,
   "metadata": {},
   "outputs": [],
   "source": [
    "#Remueve términos frecuentes y crea BoW\n",
    "from gensim.models import TfidfModel\n",
    "\n",
    "id2word = corpora.Dictionary(data_words_trigrams)\n",
    "\n",
    "texts = data_words_trigrams\n",
    "\n",
    "corpus = [id2word.doc2bow(text) for text in texts]\n",
    "\n",
    "tfidf = TfidfModel(corpus, id2word=id2word)\n",
    "\n",
    "low_value = 0.03\n",
    "words =[]\n",
    "words_missing_in_tfidf =[]\n",
    "for i in range(0, len(corpus)):\n",
    "    bow = corpus[i]\n",
    "    low_value_words = []\n",
    "    tfidf_ids = [id for id, value in tfidf[bow]]\n",
    "    bow_ids = [id for id, value in bow]\n",
    "    low_value_words = [id for id, value in tfidf[bow] if value < low_value]\n",
    "    drops = low_value_words+words_missing_in_tfidf\n",
    "    for item in drops:\n",
    "        words.append(id2word[item])\n",
    "    words_missing_in_tfidf = [id for id in bow_ids if id not in tfidf_ids]\n",
    "\n",
    "    new_bow = [b for b in bow if b[0] not in low_value_words and b[0] not in words_missing_in_tfidf]\n",
    "    corpus[i] = new_bow\n"
   ]
  },
  {
   "cell_type": "markdown",
   "metadata": {},
   "source": [
    "## Modelo LDA"
   ]
  },
  {
   "cell_type": "code",
   "execution_count": 8,
   "metadata": {},
   "outputs": [],
   "source": [
    "#Genera el modelo de modelado de tópicos\n",
    "lda_model = gensim.models.ldamodel.LdaModel(corpus=corpus,\n",
    "                                           id2word=id2word,\n",
    "                                           num_topics=20,\n",
    "                                           random_state=100,\n",
    "                                           update_every=1,\n",
    "                                           chunksize=100,\n",
    "                                           passes=10,\n",
    "                                           alpha=\"auto\")"
   ]
  },
  {
   "cell_type": "markdown",
   "metadata": {},
   "source": [
    "## Visualización"
   ]
  },
  {
   "cell_type": "code",
   "execution_count": 9,
   "metadata": {},
   "outputs": [
    {
     "name": "stderr",
     "output_type": "stream",
     "text": [
      "C:\\Users\\Sergio\\anaconda3\\lib\\site-packages\\pyLDAvis\\_prepare.py:246: FutureWarning: In a future version of pandas all arguments of DataFrame.drop except for the argument 'labels' will be keyword-only.\n",
      "  default_term_info = default_term_info.sort_values(\n",
      "C:\\Users\\Sergio\\anaconda3\\lib\\site-packages\\sklearn\\manifold\\_mds.py:298: FutureWarning: The default value of `normalized_stress` will change to `'auto'` in version 1.4. To suppress this warning, manually set the value of `normalized_stress`.\n",
      "  warnings.warn(\n"
     ]
    },
    {
     "data": {
      "text/html": [
       "\n",
       "<link rel=\"stylesheet\" type=\"text/css\" href=\"https://cdn.jsdelivr.net/gh/bmabey/pyLDAvis@3.4.0/pyLDAvis/js/ldavis.v1.0.0.css\">\n",
       "\n",
       "\n",
       "<div id=\"ldavis_el1335214821146833921976093219\" style=\"background-color:white;\"></div>\n",
       "<script type=\"text/javascript\">\n",
       "\n",
       "var ldavis_el1335214821146833921976093219_data = {\"mdsDat\": {\"x\": [-0.19218548620609227, 0.008219059156850072, 0.244085837351214, -0.22497868119518097, -0.14270505547960813, 0.042459920318190666, 0.35856697478913535, -0.35649251054252773, 0.2107977068829545, -0.30516757707066167, -0.1336157322530913, 0.10075386543687531, -0.21561768899863623, 0.23625059967452758, 0.15122325218649924, 0.19548531027974278, 0.02289132841030751, 0.007775746197737992, -0.029831258245918993, 0.0220843893076823], \"y\": [0.3691739205445972, -0.3946717847598608, 0.29931093692363614, -0.2981045388156776, 0.20854211245336388, 0.32573586495852136, -0.0408623019591432, -0.08510648362770643, 0.15956339716202717, 0.1364505464007523, -0.15864141927638964, -0.2689764188197225, -0.007208176791433468, -0.19631320340990757, -0.08033249329687688, 0.032662497598115195, 0.09938664813238758, -0.08617311045329276, -0.013019819280736943, -0.0014161736826526555], \"topics\": [1, 2, 3, 4, 5, 6, 7, 8, 9, 10, 11, 12, 13, 14, 15, 16, 17, 18, 19, 20], \"cluster\": [1, 1, 1, 1, 1, 1, 1, 1, 1, 1, 1, 1, 1, 1, 1, 1, 1, 1, 1, 1], \"Freq\": [12.135377747590127, 8.472233924154999, 7.9651939146823825, 7.799534021698228, 6.988680440550244, 6.419140295530869, 6.383190930172258, 5.829633219556447, 5.552857045972559, 5.353748945521299, 4.581939282984396, 4.485372478110999, 3.7725886040720655, 3.5949965263651107, 2.6199379361655533, 2.294473252609358, 2.007115567593571, 1.9498309350540939, 1.1865159419004332, 0.6076389897150082]}, \"tinfo\": {\"Term\": [\"eua\", \"rusia\", \"pedir\", \"ucrania\", \"chino\", \"mas\", \"persona\", \"muerto\", \"nuevo\", \"unido\", \"ano\", \"peru\", \"dejar\", \"covid\", \"muerte\", \"rusio\", \"morir\", \"ataque\", \"dos\", \"joe_biden\", \"asegurar\", \"onu\", \"gobierno\", \"nuevo_york\", \"mexico\", \"migrante\", \"tiroteo\", \"misil\", \"\\u00e9l\", \"primero\", \"rusia\", \"ucrania\", \"unido\", \"asegurar\", \"rechazar\", \"mill\\u00f3n\", \"defensa\", \"italia\", \"tropa\", \"medio\", \"atacar\", \"reducir\", \"europo\", \"atacante\", \"ucranio\", \"ruso\", \"guerra\", \"apoyo\", \"ucraniano\", \"vladimir_putin\", \"jerson\", \"sistema\", \"pedro_castillo\", \"acusar\", \"antiaereo\", \"acuerdo\", \"territorio\", \"deber\", \"bajo\", \"arma\", \"benedicto_xvi\", \"emmanuel_macron\", \"nuevo\", \"muerte\", \"primero\", \"euo\", \"dia\", \"caso\", \"reportar\", \"recibir\", \"tener\", \"sanci\\u00f3n\", \"ofrecer\", \"ayuda_humanitario\", \"cubo\", \"canada\", \"alto\", \"omicron\", \"tercero\", \"experto\", \"ola\", \"variante_omicron\", \"benedicto_xvi\", \"ucranio\", \"dina_boluarte\", \"lula_dar_silva\", \"salvador\", \"abrir\", \"elecci\\u00f3n\", \"derecho\", \"vladimir_putin\", \"elliot\", \"tormenta_invernal\", \"guerra\", \"ruso\", \"mas\", \"ano\", \"dejar\", \"tiroteo\", \"mujer\", \"periodista\", \"visitar\", \"permitir\", \"resultar_herido\", \"millon\", \"asesinado\", \"george\", \"lunes\", \"superar\", \"america_latino\", \"saudi\", \"floyd\", \"twitter\", \"suspender\", \"reino_unido\", \"calido\", \"uvalde\", \"time\", \"papa_francisco\", \"ucranio\", \"elon_musk\", \"pari\", \"walmart\", \"cuenta\", \"cerrar\", \"guerra\", \"ruso\", \"ucraniano\", \"pedro_castillo\", \"muerto\", \"migrante\", \"militar\", \"ser\", \"mundo\", \"dejar_menos\", \"aumentar\", \"mill\\u00f3n_dolar\", \"plan\", \"primero_ministro\", \"dano\", \"vuelo\", \"causar\", \"perder\", \"mil\", \"cargo\", \"prever\", \"agresion\", \"principe\", \"tormenta_invernal\", \"texa\", \"numero\", \"ucranio\", \"anunciar\", \"elliot\", \"ruso\", \"cifra\", \"ayuda\", \"estrago\", \"comision_europeo\", \"dar\", \"ucraniano\", \"guerra\", \"vladimir_putin\", \"covid\", \"rusio\", \"misil\", \"iran\", \"nino\", \"oms\", \"vacuna\", \"cuba\", \"semana\", \"negociar\", \"sur\", \"provincia\", \"rebelde\", \"yemen\", \"america\", \"pacto_nuclear\", \"aprobacion\", \"alza\", \"vacunar\", \"ucraniano\", \"prueba\", \"impactar\", \"ucranio\", \"zona\", \"pasajero\", \"haber\", \"ruso\", \"planta_nuclear_zaporiyia\", \"aumento\", \"oiea\", \"dron\", \"vladimir_putin\", \"guerra\", \"chino\", \"donald_trump\", \"ir\", \"mantener\", \"pese\", \"hacia\", \"comenzar\", \"esperar\", \"si\", \"defender\", \"mayor\", \"economico\", \"joven\", \"chile\", \"refuerzo\", \"alertar\", \"dosis\", \"fallecido\", \"consecuencia\", \"abierto\", \"cuarto\", \"xi_jinping\", \"enero\", \"mar\", \"politica\", \"anticovid\", \"poner\", \"foco\", \"apoyo\", \"reabrir\", \"lula_dar_silva\", \"guerra\", \"dina_boluarte\", \"ruso\", \"ucranio\", \"pedir\", \"\\u00e9l\", \"hacer\", \"aprobar\", \"advertir\", \"colombio\", \"japon\", \"riesgo\", \"hablar\", \"civil\", \"europa\", \"quedar\", \"considerar\", \"alto_fuego\", \"hoy\", \"dentro\", \"obamo\", \"pfizer\", \"anti\", \"ucranio\", \"congreso\", \"biden\", \"reforma\", \"migratorio\", \"reunir\", \"parlamento\", \"vigor\", \"apoyo\", \"titulo\", \"evitar\", \"emmanuel_macron\", \"vladimir_putin\", \"papa_emerito\", \"pedro_castillo\", \"benedicto_xvi\", \"ruso\", \"peru\", \"ataque\", \"investigar\", \"incendio\", \"corrupcion\", \"isla\", \"desaparecido\", \"presunto\", \"estadounidense\", \"ultimo\", \"fiscal\", \"vivienda\", \"amenazar\", \"irak\", \"mientras\", \"desplegar\", \"sufrir\", \"base\", \"presencia\", \"destruido\", \"ruso\", \"dina_boluarte\", \"pedro_castillo\", \"alianza_pacifico\", \"kaili\", \"oea\", \"san\", \"congreso\", \"alberto_fernandez\", \"griego\", \"ucraniano\", \"cumbre\", \"morir_menos\", \"ucranio\", \"condenar\", \"eua\", \"otan\", \"trump\", \"medida\", \"violencia\", \"poner_fin\", \"instar\", \"retomar\", \"costa_rico\", \"biden\", \"presidencial\", \"guerra\", \"tomar\", \"elliot\", \"tormenta_invernal\", \"condenar\", \"tormenta\", \"conspir\", \"eleccion\", \"finlandio\", \"sistema\", \"anular\", \"invierno\", \"turquia\", \"reunir\", \"abordar\", \"condici\\u00f3n\", \"intento\", \"directamente\", \"afectar\", \"paquete_ayuda\", \"ucranio\", \"juez\", \"vladimir_putin\", \"anunciar\", \"arma\", \"persona\", \"nuevo_york\", \"pais\", \"poder\", \"prohibir\", \"realizar\", \"menos\", \"argentino\", \"edificio\", \"alianza\", \"encuentro\", \"morir_menos\", \"tormenta_invernal\", \"elliot\", \"marihuano\", \"detener\", \"camion\", \"cisterna\", \"legal\", \"tienda\", \"tormenta\", \"homenaje\", \"afganistan\", \"explosion\", \"cinco\", \"desplome\", \"talib\\u00e1n\", \"bolivio\", \"abrir\", \"venta\", \"mill\\u00f3n_euro\", \"ucranio\", \"ruso\", \"vladimir_putin\", \"bajo\", \"morir\", \"joe_biden\", \"llamar\", \"enfrentar\", \"ano_prision\", \"mandato\", \"golpe\", \"supremo\", \"evaluar\", \"usar\", \"futuro\", \"afirmar\", \"asesino\", \"vacunacion\", \"dar\", \"oso\", \"vladimir_putin\", \"pedido\", \"dialogar\", \"dispuesto\", \"preventivo\", \"pedro_castillo\", \"reve\", \"secuestro\", \"corte_supremo\", \"peruano\", \"planear\", \"gobernador\", \"condenado\", \"mes\", \"condenar\", \"ucraniano\", \"detener\", \"juez\", \"elecci\\u00f3n\", \"ucranio\", \"ruso\", \"apoyo\", \"guerra\", \"mexico\", \"ley\", \"lider\", \"seis\", \"prision\", \"enviar\", \"republicano\", \"asilo\", \"posible\", \"asalto_capitolio\", \"mostrar\", \"politico\", \"responsable\", \"entrada\", \"sancionar\", \"saber\", \"pedro_castillo\", \"frontera\", \"varado\", \"refugiado\", \"canado\", \"presentar\", \"congreso\", \"biden\", \"alan\", \"asemejar\", \"frustrado\", \"garcia\", \"libertad\", \"politica\", \"camara\", \"elecci\\u00f3n\", \"texa\", \"vladimir_putin\", \"reino_unido\", \"ruso\", \"ucranio\", \"dos\", \"protesta\", \"autoridad\", \"expresidente\", \"paz\", \"restricci\\u00f3n\", \"criticar\", \"francio\", \"incendio_forestal\", \"discurso\", \"policia\", \"ciudadano\", \"meloni\", \"presupuesto\", \"hombre\", \"giorgio\", \"viaje\", \"compromiso\", \"moral\", \"restringir\", \"disolver\", \"misil_balistico\", \"matar\", \"recordar\", \"dialogo\", \"pedro_castillo\", \"penal\", \"esposa\", \"dina_boluarte\", \"piso\", \"lulo_dar_silva\", \"investidura\", \"papa_francisco\", \"xi_jinping\", \"putin\", \"ucranio\", \"guerra\", \"ucraniano\", \"ruso\", \"vladimir_putin\", \"biden\", \"onu\", \"gobierno\", \"democracia\", \"nuclear\", \"reunion\", \"emergencia\", \"presidencia\", \"extender\", \"kamala_harris\", \"todo\", \"parte\", \"dividir\", \"cese\", \"canciller\", \"reflejar\", \"venezuelo\", \"eliminar\", \"juan\", \"maduro\", \"interino\", \"guaido\", \"critico\", \"jair_bolsonaro\", \"dio\", \"lula_dar_silva\", \"oposicion\", \"vicepresidenta\", \"detenci\\u00f3n\", \"destituir\", \"territorio\", \"decir\", \"pedro_castillo\", \"benedicto_xvi\", \"ucranio\", \"florido\", \"francia\", \"israel\", \"registrar\", \"seguir\", \"vida\", \"contagio\", \"siete\", \"variante\", \"palestino\", \"netanyahu\", \"benjamin\", \"hombre\", \"paraguay\", \"ocupacion\", \"resolucion\", \"habitacion\", \"localidad\", \"radical\", \"caido\", \"senalar\", \"sondeo\", \"poblacion\", \"amenaza\", \"misa\", \"prensa\", \"techo\", \"detencion\", \"refugio\", \"inusual\", \"negativo\", \"josep_borrell\", \"asistir\", \"grupo\", \"aumento\", \"morir_menos\", \"territorio\", \"elecci\\u00f3n\", \"vaticano\", \"benedicto_xvi\", \"miembro\", \"estable\", \"cristina_fernandez\", \"tres\", \"buscar\", \"ciudad\", \"seguridad\", \"senado\", \"general\", \"investigaci\\u00f3n\", \"ucraniano\", \"anexionado\", \"pari\", \"reforzar\", \"instalar\", \"naval\", \"lasso\", \"reeleccion\", \"macron\", \"rata\", \"combate\", \"matar\", \"mencionar\", \"france\", \"guillermo\", \"planta_nuclear_zaporiyia\", \"cumbre\", \"salvadoreno\", \"jerson\", \"roma\", \"pele\", \"varios\", \"condominio\", \"mes\", \"dron\", \"ruso\", \"ministro\", \"ucranio\", \"victima\", \"emmanuel_macron\", \"vladimir_putin\", \"apoyo\", \"brasil\", \"ordenar\", \"sacudir\", \"ocho\", \"detectar\", \"oficial\", \"nicaraguo\", \"sismo\", \"pacifico\", \"costa\", \"capitolio\", \"sumar\", \"interior\", \"noruego\", \"devolver\", \"lula_dar_silva\", \"bolsonaro\", \"lula\", \"completo\", \"promesa\", \"sismo_magnitud\", \"indigena\", \"gabinete\", \"victoria\", \"confiar\", \"cumplir\", \"bolsonarista\", \"operativo\", \"expresar_apoyo\", \"pele\", \"declarar\", \"electoral\", \"elecci\\u00f3n\", \"matar\", \"vladimir_putin\", \"ecuador\", \"presidente\", \"haiti\", \"asesinato\", \"avance\", \"falta\", \"elegido\", \"kennedy\", \"john\", \"atra\", \"reunir\", \"volodimir_zelenski\", \"cientifico\", \"destituir\", \"fusion\", \"sudafrico\", \"colera\", \"academia\", \"brasileno\", \"energia\", \"desclasificar\", \"biden\", \"uruguay\", \"mattarella\", \"sergio\", \"decepcionar\", \"ecologista\", \"bid\", \"goldfajn\", \"ilan\", \"faltar\", \"documento\", \"historico\", \"dar_positivo\", \"detener\", \"asesinar\", \"brote\", \"cumbre\", \"ucranio\", \"casa_blanco\", \"viajar\", \"subir\", \"pedro_castillo\", \"congreso\", \"anunciar\", \"herido\", \"bedir\", \"pandemia\", \"hijo\", \"vergen\", \"condominio\", \"saldo\", \"volcadura\", \"celebrar\", \"infantil\", \"nochebuena\", \"regalo\", \"acercamiento\", \"resolucir\", \"reclamo\", \"asesor\", \"canado\", \"cobertura\", \"autobus\", \"explotar\", \"capital\", \"ferroviario\", \"firma\", \"sida\", \"retroceder\", \"ajustar\", \"estrella\", \"apple\", \"auto\", \"sepultado\", \"familia\", \"salud\", \"romo\", \"lulo_dar_silva\", \"polonio\", \"trabajador\", \"aumento\", \"ucraniano\", \"ruso\", \"evitar\", \"huelga\", \"denunciar\", \"carcel\", \"humano\", \"organizacion\", \"guantanamo\", \"preso\", \"liban\\u00e9s\", \"seul\", \"ultimar\", \"consumismo\", \"olvidado\", \"significado\", \"gallo\", \"insaciable\", \"dinero\", \"escapar\", \"violaci\\u00f3n\", \"papa\", \"fuga\", \"humanidad\", \"sobreviviente\", \"derecho_humanos\", \"misa\", \"excepcion\", \"interferir\", \"avalancha\", \"navidad\", \"afganistan\", \"ganador\", \"suicidio\", \"varios\", \"salvador\", \"masivo\", \"papa_francisco\"], \"Freq\": [842.0, 806.0, 535.0, 678.0, 509.0, 554.0, 471.0, 534.0, 537.0, 585.0, 429.0, 375.0, 418.0, 369.0, 398.0, 361.0, 306.0, 326.0, 278.0, 293.0, 435.0, 251.0, 250.0, 267.0, 236.0, 283.0, 280.0, 258.0, 231.0, 258.0, 804.183406626026, 677.1187266154659, 583.4659224072939, 433.91249450048167, 235.19864858152545, 177.37699503981347, 165.78623058929543, 159.19555732789024, 121.90235419823479, 109.78015091975608, 104.64891343407503, 63.253108259805366, 45.958623626271674, 45.013319283727874, 0.15074163444101554, 0.1505741484368884, 0.15043954363979561, 0.15035692601100417, 0.1503591429117358, 0.15036504900605127, 0.15029673123312398, 0.15028996207058476, 0.15034370922114632, 0.15028869285260865, 0.15025833315862017, 0.15027082226350505, 0.15027420684477466, 0.1502686899773052, 0.15027280224354778, 0.15027584836669045, 0.15029332972894802, 0.150275729906346, 535.9856865469972, 396.3019048784508, 257.0160077001006, 225.8697143356947, 192.9528785433139, 188.19221384659497, 186.84791401040408, 165.65873808435697, 92.76677856778701, 41.329800762443554, 37.79029471718361, 35.96837137733007, 28.458017317970135, 26.1596228247851, 25.0272783237181, 21.620230563439762, 20.243751117410618, 5.73000153086238, 3.9425795145556495, 1.4938634159175623, 0.1233773116359946, 0.12348620694646768, 0.12332790291424149, 0.12332149939267521, 0.12330977929416276, 0.12330344666028908, 0.12331967994189807, 0.12329909888180866, 0.12335037431280065, 0.1233134772687942, 0.12331614737188272, 0.12332398046191675, 0.12333151818656489, 552.3324242018673, 428.11939138758703, 416.49335321253665, 278.7841487427885, 199.94113196893966, 113.68836244753977, 67.48923531972059, 50.376945267696755, 46.81949175958881, 38.350179640296744, 36.593747591195346, 24.30428519415829, 11.511600980083164, 11.149944354814021, 7.279551727498577, 3.8729304787496877, 1.0334125708614843, 0.12438957574794891, 0.12435867456320598, 0.12437208136765772, 0.12434598974905199, 0.12435283199556588, 0.12434723379387269, 0.12436019629660275, 0.12450137316866691, 0.12436196239594642, 0.12435404271775746, 0.1243431128954041, 0.12434225761458986, 0.12433752580125397, 0.12439725106019095, 0.12439582929468157, 0.12436025183431795, 0.12435309857659889, 532.9475150755374, 281.48819800030657, 165.67849047410058, 160.67897104264742, 159.1114144085207, 152.37689618558204, 104.66593855983466, 99.19466527317026, 90.30838613241332, 80.08342175653486, 75.56689955250616, 69.03934513754403, 59.17284887099582, 50.783099099554455, 48.815575787631424, 48.04915536615431, 32.45944294732955, 15.794714623105367, 2.501909091813225, 0.12380280526371162, 0.12375706946071836, 0.12374990182833487, 0.12389578870718118, 0.12374675851155365, 0.12374273419595139, 0.12380210916587772, 0.12370870153779064, 0.12371381350625837, 0.12370041362295571, 0.12369953262413468, 0.12372278664239855, 0.12373956912611285, 0.12373422875054337, 0.12371681542816709, 367.5518823285988, 359.3358080660249, 256.38762313249345, 161.36077247359634, 157.6448471072627, 116.84358759715236, 73.85289518888851, 68.7837745674367, 67.76352652054062, 41.24988622568675, 35.01353926596702, 25.050982875527822, 23.593961482753837, 14.854853227987443, 13.175162630368066, 7.962235385872998, 4.440814996745835, 1.7015199089595008, 0.8089506140287589, 0.14340895602481457, 0.14334753808661746, 0.14332417743954376, 0.14350081005012527, 0.1433190901396804, 0.1433113422404632, 0.14332269608019657, 0.14340897551638493, 0.14330017357064825, 0.1433145778411426, 0.1433034579002535, 0.14331364224576543, 0.14336292668141487, 0.14332153633176029, 507.1567282905418, 201.92969916556842, 155.68476955371924, 141.0732365340467, 107.3123659459108, 83.90700791754153, 69.77060571545042, 68.45383960359734, 68.39511510649437, 59.59221536867378, 54.118989575075155, 51.07306132785189, 43.589205550558376, 32.92533094524541, 28.478067443849255, 23.459011218514885, 17.331204130509036, 16.437648094379007, 13.789416413611015, 6.2661806659566945, 2.7528975669600055, 0.11501509306109747, 0.11499969638526393, 0.11499343924781762, 0.11499701091854878, 0.11497968070668031, 0.11498288536362707, 0.11498054005602916, 0.11501222856326798, 0.11498114876181793, 0.11499836260346206, 0.11502310470346436, 0.11499818357234773, 0.11501826191182137, 0.11503178771251002, 533.5908001876572, 229.62386485388572, 159.5684994932776, 148.89568703136854, 133.0971492348404, 117.18705224172801, 100.75788003267613, 49.9177044018305, 44.643253221058416, 41.81856050865676, 36.61821702933325, 29.18454757966162, 25.676524024860182, 16.281621066016736, 14.973734415490805, 13.622800763513066, 5.531100454693487, 1.5186290735038754, 1.1173892701582617, 0.12100372313020824, 0.12087731400847353, 0.1208783020665337, 0.12084555372776447, 0.12085096579353552, 0.1208521852886188, 0.1208243327330306, 0.12081553812615264, 0.12085043170809759, 0.12081634815573351, 0.12081867142738852, 0.1208383880814722, 0.12086565314307866, 0.12082910389627613, 0.12084960387566879, 0.1208383346729284, 0.12085597729522812, 373.67142055246694, 324.8436393188005, 124.06227662238268, 109.3349119271129, 104.04259562190569, 88.32046742629637, 83.04672328080244, 66.48357010819957, 61.245451044504364, 52.20210790013813, 51.72453034896339, 43.96482645585119, 34.84921338564416, 27.020935684536393, 24.1041534440265, 21.68438667173774, 20.1294865014622, 16.756910079983626, 5.385068363820101, 0.3750996727557062, 0.09789907765881763, 0.0978460327876621, 0.09786526714247497, 0.09777874506374573, 0.09777750938245598, 0.09777584283861125, 0.09777316010949534, 0.09779874358988254, 0.09777381859755106, 0.09777093263138091, 0.09781563665383061, 0.09778357397615438, 0.09778210253988172, 0.09783383856440796, 0.09778203750402435, 841.1022280026308, 174.70234165128704, 124.03279960409463, 95.70027876465225, 68.6989704939059, 23.85294225598162, 16.11282497540963, 0.9970732055717266, 0.5748991211971569, 0.12709870244958174, 0.127066667527981, 0.1271174262688785, 0.12705796381710854, 0.12707247516423928, 0.1270805981114859, 0.12706498718522358, 0.12704851672879505, 0.12703158166146586, 0.12703166684013098, 0.12703290580253276, 0.1270472158182732, 0.12703290580253276, 0.12703597223447713, 0.1270469989998529, 0.12705129665068401, 0.12703166684013098, 0.12703024977688396, 0.12702678842567403, 0.12702149960492146, 0.12702395429917995, 0.12703354851427867, 0.1271766409281681, 0.12703424543062966, 0.12705873816860966, 0.12703754416802437, 0.12703703309603365, 469.72778996589756, 265.62813677887794, 209.18030035154842, 140.31354420307454, 100.55706425060626, 97.50300945022423, 83.0758530995487, 50.839150357330645, 19.945634802766417, 16.184949202500245, 0.562441812336774, 0.09728485442793008, 0.09726628684216299, 0.09723110025924367, 0.09720532065584449, 0.09721232362948724, 0.09719298706047365, 0.09719200903323784, 0.09719580168847293, 0.09719498044422911, 0.09719971379741622, 0.0971901873641879, 0.09719878056532097, 0.09719232259922184, 0.09719907173373468, 0.09719162080868621, 0.09718681279693148, 0.09718917200766827, 0.09719595100560817, 0.09718589449654975, 0.09718907495153037, 0.09723551258059002, 0.09721442153523736, 0.09720225965457206, 0.09719268096034642, 304.67782163337625, 291.74227944029354, 104.8492016300995, 57.30688090521782, 56.11478889790033, 37.76492335537368, 36.122302931439684, 29.73670751145492, 26.6867349810918, 24.14929148130676, 23.48963857931251, 21.204213246308594, 15.280548899122442, 1.4198394543886796, 0.11793288348135623, 0.11789508284189158, 0.11795154099779247, 0.11788713422872492, 0.11788675085509952, 0.11788052742324716, 0.11788319825950412, 0.11793665332200602, 0.11787756266721071, 0.11787756266721071, 0.11789178582871312, 0.11788396500675492, 0.11787832941446151, 0.11787797159907781, 0.11788018238698429, 0.11788557517598161, 0.11789581125177985, 0.1179130502858021, 0.11788954948256496, 0.11788506401114775, 0.11788912777157701, 0.1179357715626676, 0.11789976000012149, 0.11788672529685783, 0.11788662306389106, 234.44182604046682, 159.54254639290838, 125.04857099833269, 108.366697736693, 83.06282299480456, 77.93250880322351, 63.690914068272775, 49.17547293531527, 45.42626242827641, 45.26500337640841, 41.7847554437655, 24.91722963226205, 21.446818200747405, 19.5192386729603, 13.794193258352246, 5.698796864267004, 0.0976434588695972, 0.09755600289914852, 0.0975302202135392, 0.09753053295839133, 0.09753340395613384, 0.09752856266582292, 0.09754364947748952, 0.09754460022183999, 0.09751422644180144, 0.09751422644180144, 0.09751422644180144, 0.09751428273587483, 0.0975181169877619, 0.09753037658596526, 0.09751996843728648, 0.09753142115377136, 0.09751968696691957, 0.09753728199230022, 0.0975225141803828, 0.0975283249797353, 0.09753040786045047, 276.9276706072355, 135.5883230821583, 111.84172180062039, 105.63764674264206, 98.30339631148807, 50.73066827599305, 49.54638950764696, 32.191094539603455, 15.080930833592307, 9.076595377307637, 0.09110515175457044, 0.09109410383777497, 0.09108341366304717, 0.0910861809031588, 0.09109166277425446, 0.09107788970464945, 0.0910786788415634, 0.09108232991501866, 0.0910771636986886, 0.09107812118481087, 0.09107671126019126, 0.09107577481772003, 0.09108508663330477, 0.09107884719077171, 0.09107984676419606, 0.09111969291743838, 0.09107886823442275, 0.09107367045261612, 0.09109749186559225, 0.09107162921846534, 0.09107671126019126, 0.09107671126019126, 0.09108392923249763, 0.09108413966900802, 0.09108188799834685, 0.09111246442330648, 0.09108901127422354, 0.09108335053209406, 0.09108503402417717, 0.0910806779884121, 0.09107899449632899, 249.91505587237947, 248.8871494759984, 70.18882684393084, 68.5917915634134, 61.4139676871579, 35.15860880275743, 28.759507493723152, 25.687118109090736, 20.83892304075369, 16.66719481872655, 15.98652485622125, 14.050256388421763, 4.7617754700254435, 1.7689143378112797, 0.34508309884098093, 0.08370521945564133, 0.08369165357727211, 0.08368872082086191, 0.08368554742802832, 0.0836727736445528, 0.08367280873736455, 0.0836703923466129, 0.08367220213304723, 0.08367103404374196, 0.08368808413699166, 0.08366861765299032, 0.08367106412329489, 0.08366186479335863, 0.08366754982886147, 0.08367499953146926, 0.08366934457551935, 0.08367916554954938, 0.08367397181341098, 0.08368486061156986, 90.8575945334908, 85.92359103095932, 78.77653941900653, 66.3411089824423, 66.08692338529741, 60.96113026144135, 40.554959976178296, 29.448603481460218, 10.126938332830694, 0.07712871785789914, 0.07712413633151997, 0.07712412902446035, 0.07712990160155692, 0.07712517393398542, 0.07711833452618494, 0.07711806416497916, 0.077115784362379, 0.077115784362379, 0.077115784362379, 0.07711777918965414, 0.077115784362379, 0.077115784362379, 0.0771163396989098, 0.07711865603680804, 0.07711579897649823, 0.07711579897649823, 0.07711294922324802, 0.07711579897649823, 0.07711183124312679, 0.07711181662900755, 0.07711376761392501, 0.07711943789218695, 0.07711580628355784, 0.07711626662831364, 0.0771191383027427, 0.07712005168519467, 0.07711816646381378, 0.07711899946860999, 0.07711584281885592, 0.07711596703886939, 0.07711582089767707, 0.07711581359061746, 0.07711581359061746, 156.20786199336086, 135.16532150395966, 66.55469826067981, 47.29665114234189, 37.42187193488964, 6.55258511257151, 4.3122623014230825, 0.0691617987891489, 0.0691274407752905, 0.06912625049952635, 0.06911787377385292, 0.06911487248711431, 0.06911487248711431, 0.0691152244503779, 0.06911414936259094, 0.06911102008921102, 0.0691082043831023, 0.06910911308825557, 0.06911465490982409, 0.06910522869369196, 0.06910522869369196, 0.06910442237785173, 0.06910750045657513, 0.06911612035686704, 0.06910631658014306, 0.0691110072905469, 0.06910435838453108, 0.06910412160924467, 0.06910829397375122, 0.06910435198519901, 0.06910920907823656, 0.0691111352771882, 0.06913561272233784, 0.06910984261211102, 0.069131510750484, 0.06910743646325447, 0.06910892110829361, 0.06911008578672949, 0.06910797400714795, 141.497984343359, 31.394505041042198, 26.989377058419432, 26.513005404548032, 22.49304491845365, 21.430549374105524, 16.838519004590385, 16.777856195098572, 15.763522888859654, 13.365039705068444, 11.082065354838182, 7.024644713299418, 4.217490078332463, 2.418826527389127, 0.3318913883081072, 0.06685203344589666, 0.06681840134860954, 0.06680555979881317, 0.06680367890921787, 0.06680368450710358, 0.06680784933406457, 0.06680473690961522, 0.06680368450710358, 0.06680388603098879, 0.06679843928820244, 0.06680368450710358, 0.06679380423884264, 0.06679380423884264, 0.06679598741426573, 0.066795142133525, 0.06680328705721886, 0.06680144535282348, 0.06680819640297798, 0.06679866320363045, 0.06680307433756225, 0.06679896548945827, 137.63468920403466, 60.07104430700446, 35.69305790442542, 28.683808998450786, 8.749749366787706, 0.07728931317610521, 0.07728961771069684, 0.077289595958226, 0.07729028659917486, 0.07729797065949565, 0.07729480567498985, 0.07728215661320206, 0.07728680620384203, 0.0772800248710607, 0.07728144421978238, 0.0772800248710607, 0.07727821941598179, 0.07727975296517532, 0.0772800248710607, 0.0772800248710607, 0.0773025332402523, 0.07727812152986306, 0.077278159596687, 0.07727813240609847, 0.07727681638161324, 0.07727681638161324, 0.07727681638161324, 0.07727681638161324, 0.07727681638161324, 0.07727681638161324, 0.07728026958635754, 0.0772800248710607, 0.07727929072517017, 0.07728885637421778, 0.07727981822258781, 0.0772800248710607, 0.07728644728807332, 0.07732900599725269, 0.07728218380379061, 0.07728238501414578, 0.0772800248710607, 0.07728725756761176, 0.07728225993743851, 0.07728063937836166, 88.89898740663985, 17.924753250685026, 17.45033714807085, 8.384075046393408, 0.0522358454301123, 0.052235961252701496, 0.05223367789308596, 0.05223365803778495, 0.0522358454301123, 0.05223281749670909, 0.05223365803778495, 0.05223192069894705, 0.05223111655925636, 0.05223111655925636, 0.05223111655925636, 0.05223111655925636, 0.05223574946282411, 0.05223241377225533, 0.052234230532297254, 0.05223192069894705, 0.05223527624481683, 0.05223111655925636, 0.05223111655925636, 0.05222982927390789, 0.05222982927390789, 0.05222994178728025, 0.05223103051961867, 0.0522290052789162, 0.05222913764758956, 0.0522290052789162, 0.0522358454301123, 0.05223242369990583, 0.05222993516884658, 0.05223111655925636, 0.05223192069894705, 0.05223111655925636, 0.05223241377225533, 0.052231950481898555, 0.05223168243533499, 0.05223111655925636, 0.05223111655925636, 30.921463627317888, 9.152351025681094, 8.763871695594307, 1.5553781938336035, 0.10226584180880777, 0.029589280551394107, 0.02958487428623801, 0.029585531836576688, 0.02958487428623801, 0.029584487890678166, 0.029584487890678166, 0.029584487890678166, 0.029584487890678166, 0.029584487890678166, 0.029584487890678166, 0.02958487428623801, 0.029583867624121577, 0.029584487890678166, 0.02958487428623801, 0.029584487890678166, 0.029583511733474354, 0.029583901518468934, 0.029584487890678166, 0.029583867624121577, 0.029582840625396734, 0.029583511733474354, 0.029584487890678166, 0.02958609787217751, 0.02958265759592102, 0.029583511733474354, 0.029584884454542215, 0.02958511832553896, 0.02958487428623801, 0.02958456245824235], \"Total\": [842.0, 806.0, 535.0, 678.0, 509.0, 554.0, 471.0, 534.0, 537.0, 585.0, 429.0, 375.0, 418.0, 369.0, 398.0, 361.0, 306.0, 326.0, 278.0, 293.0, 435.0, 251.0, 250.0, 267.0, 236.0, 283.0, 280.0, 258.0, 231.0, 258.0, 806.0174183010557, 678.9527382904956, 585.2999340823236, 435.7465061755114, 237.03266025655515, 179.21100671484317, 167.62024226432513, 161.02956900291994, 123.73636587326453, 111.61416259478582, 106.48292510910477, 65.0871199348351, 47.79263530130139, 46.84733095875759, 1.9868333077039124, 1.9858155153632953, 1.9853013818658127, 1.9848870298573777, 1.9851872751609914, 1.985315860476984, 1.9844619875213916, 1.9845361712799754, 1.9852477771912518, 1.9845714653289557, 1.9843490215273876, 1.9845361378539672, 1.9845913832772553, 1.9845257532196008, 1.9846089354353067, 1.9846586345292023, 1.9849486108926357, 1.9847302134990326, 537.8466446258857, 398.16286295733926, 258.8769657789891, 227.73067241458318, 194.81383662220236, 190.05317192548344, 188.70887208929256, 167.51969616324544, 94.62773664667552, 43.19075884133203, 39.651252796072086, 37.82932950374057, 30.318975396858626, 28.02058090367359, 26.88823640260659, 23.481188677661404, 22.10470919629911, 7.5909596097508665, 5.803537593444135, 3.3548214948060497, 1.9849486108926357, 1.9868333077039124, 1.984785332774887, 1.9847272280778705, 1.984555647858178, 1.9844788255664958, 1.9847501999375687, 1.984481682617401, 1.985315860476984, 1.9847439616262164, 1.984890098438748, 1.9853013818658127, 1.9858155153632953, 554.1923283689886, 429.9792955547083, 418.3532573796579, 280.64405290990976, 201.8010361360609, 115.54826661466105, 69.34913948684186, 52.236849434818005, 48.67939592671006, 40.210083807417995, 38.453651758316596, 26.164189415531425, 13.371505147204429, 13.009848521935286, 9.13945589461984, 5.732834645870949, 2.893316737982747, 1.9846239518318258, 1.9844229515304666, 1.9846475096979876, 1.984280611027137, 1.984428204940909, 1.984354626210936, 1.984577213348626, 1.9868333077039124, 1.9846285862125264, 1.9845026596124737, 1.984332411154741, 1.9843259246468283, 1.9843323252184266, 1.9853013818658127, 1.9858155153632953, 1.9851872751609914, 1.9852477771912518, 534.8080411235709, 283.3487240483401, 167.53901652213412, 162.53949709068095, 160.97194045655422, 154.23742223361558, 106.52646460786819, 101.0551913212038, 92.16891218044685, 81.9439478045684, 77.42742560053969, 70.89987118557757, 61.03337491902934, 52.643625147587976, 50.676101835664944, 49.90968141418783, 34.31996899536307, 17.655240671138902, 4.362435139846754, 1.984890098438748, 1.984478867095754, 1.9843966324833187, 1.9868333077039124, 1.9846613753161557, 1.9847439616262164, 1.9858155153632953, 1.984327934629089, 1.9844411867037206, 1.9842519308850255, 1.9843261020121357, 1.9847389709709182, 1.9851872751609914, 1.9853013818658127, 1.985315860476984, 369.39282372807565, 361.17674946550176, 258.2285645319703, 163.20171387307317, 159.48578850673954, 118.68452899662923, 75.69383658836537, 70.62471596691356, 69.60446792001748, 43.09082762516358, 36.854480665443845, 26.89192430657014, 25.434902882230677, 16.695794627464284, 15.016104029844906, 9.803176785349837, 6.281756396222673, 3.54246130843634, 2.649892013505598, 1.9851872751609914, 1.9844940894352627, 1.9843654516237978, 1.9868333077039124, 1.9845167352752342, 1.9844208870063573, 1.984602085267834, 1.9858155153632953, 1.9843309104709226, 1.9845346944125537, 1.9843899788927277, 1.9845420821071464, 1.985315860476984, 1.9853013818658127, 509.02597693503805, 203.79894781006462, 157.55401819821543, 142.9424851785429, 109.18161459040701, 85.77625656203774, 71.63985435994663, 70.32308824809355, 70.26436375099058, 61.461464013169966, 55.98823821957134, 52.94230997234808, 45.458454195054564, 34.7945795897416, 30.34731609809124, 25.328259863011084, 19.200452775005235, 18.306896768747443, 15.658665058107214, 8.13542931045289, 4.622146211456203, 1.9845964145262338, 1.984366817835245, 1.9844179159600277, 1.9845795223567606, 1.9842964125099667, 1.9843667112410586, 1.9843396530713646, 1.9848870298573777, 1.9843614801864613, 1.9847272280778705, 1.9853013818658127, 1.984785332774887, 1.9858155153632953, 1.9868333077039124, 535.4542217465097, 231.4872864127381, 161.43192105212998, 150.7591085902209, 134.96057079369277, 119.0504738005804, 102.62130159152852, 51.78112596068288, 46.506674779910796, 43.68198206750914, 38.48163858818563, 31.047969138514002, 27.539945583712566, 18.145042631124017, 16.837155997573735, 15.486222322365448, 7.394522028585644, 3.3820506323562585, 2.9808108290106445, 1.9868333077039124, 1.984816536871513, 1.9848419852626182, 1.984429386995865, 1.9845329966653493, 1.9846360558767133, 1.9843873416755409, 1.9842786985318233, 1.9848870298573777, 1.9843426750747373, 1.9844014536538248, 1.9847302134990326, 1.985315860476984, 1.9846263879803667, 1.9852477771912518, 1.9849486108926357, 1.9858155153632953, 375.55786950750326, 326.7300882738368, 125.94872557741903, 111.22136088214924, 105.92904457694203, 90.20691638133272, 84.93317223583878, 68.37001906323592, 63.131899999540686, 54.08855685517445, 53.61097930399971, 45.85127541088751, 36.735662340680484, 28.90738463957272, 25.990602399062826, 23.570835626774066, 22.015935456498525, 18.643359047818617, 7.271517318856424, 2.2615486277920303, 1.9858155153632953, 1.984785332774887, 1.9852477771912518, 1.9843283343157125, 1.984307700852699, 1.984302230174555, 1.9842832471552088, 1.984816536871513, 1.9843200646101598, 1.9842649613018573, 1.9851872751609914, 1.9845954586572678, 1.9846495592815925, 1.9868333077039124, 1.9846857453986502, 842.9594258746635, 176.55953952331953, 125.88999747612716, 97.55747663668478, 70.55616836593843, 25.71014012801414, 17.97002284744215, 2.8542710776042433, 2.432097004106202, 1.9848419852626182, 1.9843678318834812, 1.9853013818658127, 1.9844600305573608, 1.9847439616262164, 1.984890098438748, 1.9846857453986502, 1.9844532607456233, 1.9842556869753247, 1.984261202124459, 1.984281988337009, 1.9845361712799754, 1.9843207323676746, 1.984369356267357, 1.9845544081531554, 1.9846360558767133, 1.9843657347254333, 1.9843598501434632, 1.9843155194478161, 1.9842445870595276, 1.9842995230560738, 1.9844544773029997, 1.9868333077039124, 1.9845115549725147, 1.985315860476984, 1.9846613753161557, 1.9846586345292023, 471.6148174400772, 267.5151642530576, 211.067327825728, 142.20057167725412, 102.44409172478588, 99.39003692440384, 84.96288057372831, 52.72617783151025, 21.832662276946024, 18.071976676679853, 2.4494692865163805, 1.9846495592815925, 1.984890098438748, 1.9847439616262164, 1.9843607074243172, 1.98462433632526, 1.9842577024637742, 1.984253477224426, 1.9843340744907998, 1.9843377543218061, 1.9844532607456233, 1.9842668597627706, 1.9844466995745456, 1.9843368943897466, 1.9844913325840787, 1.9843442382481602, 1.984283468827374, 1.9843355182783862, 1.9844788255664958, 1.9842770430257493, 1.9843998899374478, 1.9868333077039124, 1.9858155153632953, 1.985315860476984, 1.9846089354353067, 306.54416136945645, 293.60861917637374, 106.71554136617965, 59.173220641297966, 57.98112863398048, 39.631263091453825, 37.988642667519834, 31.60304724753507, 28.55307471717195, 26.01563121738691, 25.355978315392658, 23.070552982388744, 17.14688863520259, 3.2861791904688276, 1.9847389709709182, 1.9842966046281802, 1.985315860476984, 1.9842649296449753, 1.9842941226885893, 1.9842488268075105, 1.9843478476811647, 1.9852477771912518, 1.9842624542894023, 1.984272627025454, 1.9845179022983834, 1.9843890107512645, 1.9843051825243336, 1.9843070281301345, 1.984359855557882, 1.9844599314836253, 1.9846857453986502, 1.9851872751609914, 1.98462433632526, 1.9845115549725147, 1.9847501999375687, 1.9868333077039124, 1.9858155153632953, 1.9848870298573777, 1.9853013818658127, 236.32852458530596, 161.4292449377475, 126.93526954317186, 110.25339628153216, 84.94952153964373, 79.81920734806268, 65.57761261311194, 51.062171488283916, 47.31296097311558, 47.151701929377055, 43.67145398860467, 26.803928177101216, 23.33351674558657, 21.40593722979668, 15.680891803191413, 7.585495409106169, 1.9852477771912518, 1.9845903223931263, 1.9842711136372488, 1.9843095287085695, 1.984400851696848, 1.9844040009216797, 1.984816536871513, 1.9848419852626182, 1.9842240439144885, 1.9842240439144885, 1.9842240439144885, 1.9842328225640893, 1.9843177824168026, 1.9845795223567606, 1.9843711017519807, 1.9847501999375687, 1.984478867095754, 1.985315860476984, 1.9846475096979876, 1.9858155153632953, 1.9868333077039124, 278.8207973574911, 137.48144983241374, 113.7348485508759, 107.53077349289757, 100.19652306174358, 52.62379503126181, 51.43951625790246, 34.08422128985896, 16.97405758384781, 10.969722127563141, 1.984559450612175, 1.9843264584924911, 1.984253453079927, 1.9843421335947384, 1.9845214143014407, 1.9842243760992215, 1.9842892435962385, 1.9843707130306236, 1.9842750185614468, 1.984303530128714, 1.9842881054506885, 1.984282490714908, 1.9844865071327327, 1.9843522707088215, 1.9843794614794645, 1.9852477771912518, 1.9843604013202518, 1.984257119720882, 1.984785332774887, 1.9842301464920298, 1.9843448877266412, 1.9843453522213714, 1.984577213348626, 1.9845964145262338, 1.9845694045156628, 1.9868333077039124, 1.9853013818658127, 1.9851872751609914, 1.9858155153632953, 1.985315860476984, 1.9848419852626182, 251.8156064936856, 250.78770009730454, 72.08937746523704, 70.49234218471959, 63.31451830846409, 37.059159424063616, 30.660058115029344, 27.587668730396928, 22.739473662059883, 18.56774550005953, 17.88707547752744, 15.950807009727951, 6.662326091331632, 3.669464959117468, 2.2456337201471697, 1.984547278215444, 1.984403229428955, 1.984351737309328, 1.9843400915624818, 1.9842829318846607, 1.9843133016802452, 1.9842793061457056, 1.984344833282003, 1.9843187409379892, 1.9847272280778705, 1.9842973597333424, 1.98438189758864, 1.9842432468034168, 1.9843785197151975, 1.9845913832772553, 1.9845828944546453, 1.9852477771912518, 1.9849486108926357, 1.9868333077039124, 92.76468567573154, 87.83068217320006, 80.68363056124727, 68.24820012468304, 67.99401452753816, 62.868221403682085, 42.462051137116376, 31.35569462370096, 12.034029655425812, 1.98435855752444, 1.984293910062529, 1.9842940252145262, 1.9845214143014407, 1.9844057498124097, 1.984288162965023, 1.9842923310901546, 1.984252890124344, 1.9842556744723545, 1.9842559130517219, 1.9843079495521256, 1.9842637064308064, 1.9842728819710151, 1.984294817726786, 1.9843662564157718, 1.9842978038938197, 1.9843003185275472, 1.9842392644053666, 1.984323937222902, 1.9842241835105838, 1.9842358184650468, 1.9842890745103785, 1.9844619050795667, 1.984366848817294, 1.9843898656773793, 1.9845346944125537, 1.9846495592815925, 1.9845913832772553, 1.9847501999375687, 1.984389558562055, 1.9849486108926357, 1.9843906405662164, 1.9843894113399116, 1.9844209030653113, 158.1229558458929, 137.0804153564917, 68.46979211321187, 49.21174499487394, 39.33696578742169, 8.467678975625388, 6.2273561783937215, 1.9851872751609914, 1.9842885471408205, 1.9845026596124737, 1.9842902697914198, 1.984243199867106, 1.9842525738050085, 1.9843303244138877, 1.9843105229144173, 1.9842761025455187, 1.9842265520935976, 1.9842842564835246, 1.9844865071327327, 1.9842214194008836, 1.984236512453094, 1.9842308160800317, 1.9843309104709226, 1.9845954586572678, 1.9843253465588286, 1.9844619875213916, 1.9842719054861704, 1.9842702443624973, 1.9843911623720891, 1.9842906029468257, 1.9844599314836253, 1.9845420821071464, 1.9858155153632953, 1.9845434187629882, 1.9868333077039124, 1.9844600359148648, 1.9847302134990326, 1.985315860476984, 1.9848870298573777, 143.41538801093736, 33.31190870862057, 28.906780736519632, 28.430409072126405, 24.41044858603202, 23.347953041683898, 18.755922672168758, 18.695259862676945, 17.680926617310547, 15.282443372646815, 12.999469022416553, 8.94204838087779, 6.134893745910836, 4.3362301949675, 2.2492950558864804, 1.9847272280778705, 1.9843861024447393, 1.9842567634979276, 1.9842385309526733, 1.9842595179717855, 1.9843874081817232, 1.9842991304931814, 1.984276679096264, 1.9843207885493332, 1.9842288701982613, 1.9844903384990817, 1.9842127091330906, 1.9842183167565937, 1.9842867885256594, 1.9842702443624973, 1.984536167169941, 1.9844890399339072, 1.9847501999375687, 1.9844865071327327, 1.985315860476984, 1.9845552123050623, 139.5416064260779, 61.977961529047725, 37.599975126468685, 30.590726220494048, 10.656666588830968, 1.9842626560701642, 1.9842803857329474, 1.984325990587842, 1.9843448214491708, 1.9846360558767133, 1.9845574252764118, 1.9842559536752349, 1.9843785197151975, 1.98423002063417, 1.984269141324567, 1.984251088454976, 1.984205781849755, 1.9842507240023854, 1.9842593148533274, 1.9842629919833932, 1.9848419852626182, 1.9842231924575469, 1.9842325402752055, 1.984232653842339, 1.9842030597549134, 1.9842030597549134, 1.9842030597549134, 1.9842030597549134, 1.9842030597549134, 1.9842031642269753, 1.9842988573574245, 1.984307326534049, 1.9842870276738795, 1.98462433632526, 1.9843087025450248, 1.9843292186869075, 1.9845954586572678, 1.9868333077039124, 1.984461727296592, 1.9845086514077461, 1.9843698993562244, 1.9852477771912518, 1.984816536871513, 1.9846613753161557, 90.83094852843826, 19.856714594091216, 19.38229826986926, 10.31603616819182, 1.9842771920195539, 1.9842906029468257, 1.9842376829190789, 1.9842375491322461, 1.9843612186208903, 1.984249391147037, 1.9842956917226482, 1.984238498587276, 1.9842124588994874, 1.9842142003882388, 1.9842183855970656, 1.98422381406668, 1.984400851696848, 1.9842768677565965, 1.984349536667271, 1.9842666635330333, 1.9844017837115935, 1.9842492938382863, 1.9842566532684947, 1.9842120324988954, 1.9842138630553927, 1.9842243235313521, 1.9842719444294015, 1.9842095141887248, 1.984214858981479, 1.9842120181065028, 1.9844778021774845, 1.984345789775467, 1.9842603330910855, 1.9843448877266412, 1.984428728069409, 1.984354596123857, 1.9845346944125537, 1.9851872751609914, 1.9858155153632953, 1.9844014536538248, 1.9844668403924233, 32.876070630830505, 11.106958029193708, 10.718478699106921, 3.509985197346217, 2.0568728453214216, 1.9842937711597217, 1.9842071151147265, 1.984270161809, 1.9842291808406238, 1.9842222797688212, 1.9842222797688212, 1.9842222797688212, 1.9842222797688212, 1.9842222797688212, 1.984228326157089, 1.9842699164734325, 1.9842052639971703, 1.9842548136433302, 1.984288776434472, 1.9842904202820442, 1.984228518180565, 1.984257899561697, 1.9842978038938197, 1.984256243713409, 1.9842177354701307, 1.98426376818743, 1.984334696188625, 1.9844466995745456, 1.984222637378065, 1.9842937386682478, 1.9843911623720891, 1.984555647858178, 1.984566678020196, 1.984577213348626], \"Category\": [\"Default\", \"Default\", \"Default\", \"Default\", \"Default\", \"Default\", \"Default\", \"Default\", \"Default\", \"Default\", \"Default\", \"Default\", \"Default\", \"Default\", \"Default\", \"Default\", \"Default\", \"Default\", \"Default\", \"Default\", \"Default\", \"Default\", \"Default\", \"Default\", \"Default\", \"Default\", \"Default\", \"Default\", \"Default\", \"Default\", \"Topic1\", \"Topic1\", \"Topic1\", \"Topic1\", \"Topic1\", \"Topic1\", \"Topic1\", \"Topic1\", \"Topic1\", \"Topic1\", \"Topic1\", \"Topic1\", \"Topic1\", \"Topic1\", \"Topic1\", \"Topic1\", \"Topic1\", \"Topic1\", \"Topic1\", \"Topic1\", \"Topic1\", \"Topic1\", \"Topic1\", \"Topic1\", \"Topic1\", \"Topic1\", \"Topic1\", \"Topic1\", \"Topic1\", \"Topic1\", \"Topic1\", \"Topic1\", \"Topic2\", \"Topic2\", \"Topic2\", \"Topic2\", \"Topic2\", \"Topic2\", \"Topic2\", \"Topic2\", \"Topic2\", \"Topic2\", \"Topic2\", \"Topic2\", \"Topic2\", \"Topic2\", \"Topic2\", \"Topic2\", \"Topic2\", \"Topic2\", \"Topic2\", \"Topic2\", \"Topic2\", \"Topic2\", \"Topic2\", \"Topic2\", \"Topic2\", \"Topic2\", \"Topic2\", \"Topic2\", \"Topic2\", \"Topic2\", \"Topic2\", \"Topic2\", \"Topic2\", \"Topic3\", \"Topic3\", \"Topic3\", \"Topic3\", \"Topic3\", \"Topic3\", \"Topic3\", \"Topic3\", \"Topic3\", \"Topic3\", \"Topic3\", \"Topic3\", \"Topic3\", \"Topic3\", \"Topic3\", \"Topic3\", \"Topic3\", \"Topic3\", \"Topic3\", \"Topic3\", \"Topic3\", \"Topic3\", \"Topic3\", \"Topic3\", \"Topic3\", \"Topic3\", \"Topic3\", \"Topic3\", \"Topic3\", \"Topic3\", \"Topic3\", \"Topic3\", \"Topic3\", \"Topic3\", \"Topic4\", \"Topic4\", \"Topic4\", \"Topic4\", \"Topic4\", \"Topic4\", \"Topic4\", \"Topic4\", \"Topic4\", \"Topic4\", \"Topic4\", \"Topic4\", \"Topic4\", \"Topic4\", \"Topic4\", \"Topic4\", \"Topic4\", \"Topic4\", \"Topic4\", \"Topic4\", \"Topic4\", \"Topic4\", \"Topic4\", \"Topic4\", \"Topic4\", \"Topic4\", \"Topic4\", \"Topic4\", \"Topic4\", \"Topic4\", \"Topic4\", \"Topic4\", \"Topic4\", \"Topic4\", \"Topic5\", \"Topic5\", \"Topic5\", \"Topic5\", \"Topic5\", \"Topic5\", \"Topic5\", \"Topic5\", \"Topic5\", \"Topic5\", \"Topic5\", \"Topic5\", \"Topic5\", \"Topic5\", \"Topic5\", \"Topic5\", \"Topic5\", \"Topic5\", \"Topic5\", \"Topic5\", \"Topic5\", \"Topic5\", \"Topic5\", \"Topic5\", \"Topic5\", \"Topic5\", \"Topic5\", \"Topic5\", \"Topic5\", \"Topic5\", \"Topic5\", \"Topic5\", \"Topic5\", \"Topic6\", \"Topic6\", \"Topic6\", \"Topic6\", \"Topic6\", \"Topic6\", \"Topic6\", \"Topic6\", \"Topic6\", \"Topic6\", \"Topic6\", \"Topic6\", \"Topic6\", \"Topic6\", \"Topic6\", \"Topic6\", \"Topic6\", \"Topic6\", \"Topic6\", \"Topic6\", \"Topic6\", \"Topic6\", \"Topic6\", \"Topic6\", \"Topic6\", \"Topic6\", \"Topic6\", \"Topic6\", \"Topic6\", \"Topic6\", \"Topic6\", \"Topic6\", \"Topic6\", \"Topic6\", \"Topic6\", \"Topic7\", \"Topic7\", \"Topic7\", \"Topic7\", \"Topic7\", \"Topic7\", \"Topic7\", \"Topic7\", \"Topic7\", \"Topic7\", \"Topic7\", \"Topic7\", \"Topic7\", \"Topic7\", \"Topic7\", \"Topic7\", \"Topic7\", \"Topic7\", \"Topic7\", \"Topic7\", \"Topic7\", \"Topic7\", \"Topic7\", \"Topic7\", \"Topic7\", \"Topic7\", \"Topic7\", \"Topic7\", \"Topic7\", \"Topic7\", \"Topic7\", \"Topic7\", \"Topic7\", \"Topic7\", \"Topic7\", \"Topic7\", \"Topic8\", \"Topic8\", \"Topic8\", \"Topic8\", \"Topic8\", \"Topic8\", \"Topic8\", \"Topic8\", \"Topic8\", \"Topic8\", \"Topic8\", \"Topic8\", \"Topic8\", \"Topic8\", \"Topic8\", \"Topic8\", \"Topic8\", \"Topic8\", \"Topic8\", \"Topic8\", \"Topic8\", \"Topic8\", \"Topic8\", \"Topic8\", \"Topic8\", \"Topic8\", \"Topic8\", \"Topic8\", \"Topic8\", \"Topic8\", \"Topic8\", \"Topic8\", \"Topic8\", \"Topic8\", \"Topic8\", \"Topic9\", \"Topic9\", \"Topic9\", \"Topic9\", \"Topic9\", \"Topic9\", \"Topic9\", \"Topic9\", \"Topic9\", \"Topic9\", \"Topic9\", \"Topic9\", \"Topic9\", \"Topic9\", \"Topic9\", \"Topic9\", \"Topic9\", \"Topic9\", \"Topic9\", \"Topic9\", \"Topic9\", \"Topic9\", \"Topic9\", \"Topic9\", \"Topic9\", \"Topic9\", \"Topic9\", \"Topic9\", \"Topic9\", \"Topic9\", \"Topic9\", \"Topic9\", \"Topic9\", \"Topic9\", \"Topic9\", \"Topic9\", \"Topic10\", \"Topic10\", \"Topic10\", \"Topic10\", \"Topic10\", \"Topic10\", \"Topic10\", \"Topic10\", \"Topic10\", \"Topic10\", \"Topic10\", \"Topic10\", \"Topic10\", \"Topic10\", \"Topic10\", \"Topic10\", \"Topic10\", \"Topic10\", \"Topic10\", \"Topic10\", \"Topic10\", \"Topic10\", \"Topic10\", \"Topic10\", \"Topic10\", \"Topic10\", \"Topic10\", \"Topic10\", \"Topic10\", \"Topic10\", \"Topic10\", \"Topic10\", \"Topic10\", \"Topic10\", \"Topic10\", \"Topic11\", \"Topic11\", \"Topic11\", \"Topic11\", \"Topic11\", \"Topic11\", \"Topic11\", \"Topic11\", \"Topic11\", \"Topic11\", \"Topic11\", \"Topic11\", \"Topic11\", \"Topic11\", \"Topic11\", \"Topic11\", \"Topic11\", \"Topic11\", \"Topic11\", \"Topic11\", \"Topic11\", \"Topic11\", \"Topic11\", \"Topic11\", \"Topic11\", \"Topic11\", \"Topic11\", \"Topic11\", \"Topic11\", \"Topic11\", \"Topic11\", \"Topic11\", \"Topic11\", \"Topic11\", \"Topic11\", \"Topic11\", \"Topic11\", \"Topic11\", \"Topic11\", \"Topic12\", \"Topic12\", \"Topic12\", \"Topic12\", \"Topic12\", \"Topic12\", \"Topic12\", \"Topic12\", \"Topic12\", \"Topic12\", \"Topic12\", \"Topic12\", \"Topic12\", \"Topic12\", \"Topic12\", \"Topic12\", \"Topic12\", \"Topic12\", \"Topic12\", \"Topic12\", \"Topic12\", \"Topic12\", \"Topic12\", \"Topic12\", \"Topic12\", \"Topic12\", \"Topic12\", \"Topic12\", \"Topic12\", \"Topic12\", \"Topic12\", \"Topic12\", \"Topic12\", \"Topic12\", \"Topic12\", \"Topic12\", \"Topic12\", \"Topic13\", \"Topic13\", \"Topic13\", \"Topic13\", \"Topic13\", \"Topic13\", \"Topic13\", \"Topic13\", \"Topic13\", \"Topic13\", \"Topic13\", \"Topic13\", \"Topic13\", \"Topic13\", \"Topic13\", \"Topic13\", \"Topic13\", \"Topic13\", \"Topic13\", \"Topic13\", \"Topic13\", \"Topic13\", \"Topic13\", \"Topic13\", \"Topic13\", \"Topic13\", \"Topic13\", \"Topic13\", \"Topic13\", \"Topic13\", \"Topic13\", \"Topic13\", \"Topic13\", \"Topic13\", \"Topic13\", \"Topic13\", \"Topic13\", \"Topic13\", \"Topic13\", \"Topic13\", \"Topic13\", \"Topic14\", \"Topic14\", \"Topic14\", \"Topic14\", \"Topic14\", \"Topic14\", \"Topic14\", \"Topic14\", \"Topic14\", \"Topic14\", \"Topic14\", \"Topic14\", \"Topic14\", \"Topic14\", \"Topic14\", \"Topic14\", \"Topic14\", \"Topic14\", \"Topic14\", \"Topic14\", \"Topic14\", \"Topic14\", \"Topic14\", \"Topic14\", \"Topic14\", \"Topic14\", \"Topic14\", \"Topic14\", \"Topic14\", \"Topic14\", \"Topic14\", \"Topic14\", \"Topic14\", \"Topic14\", \"Topic15\", \"Topic15\", \"Topic15\", \"Topic15\", \"Topic15\", \"Topic15\", \"Topic15\", \"Topic15\", \"Topic15\", \"Topic15\", \"Topic15\", \"Topic15\", \"Topic15\", \"Topic15\", \"Topic15\", \"Topic15\", \"Topic15\", \"Topic15\", \"Topic15\", \"Topic15\", \"Topic15\", \"Topic15\", \"Topic15\", \"Topic15\", \"Topic15\", \"Topic15\", \"Topic15\", \"Topic15\", \"Topic15\", \"Topic15\", \"Topic15\", \"Topic15\", \"Topic15\", \"Topic15\", \"Topic15\", \"Topic15\", \"Topic15\", \"Topic15\", \"Topic15\", \"Topic15\", \"Topic15\", \"Topic15\", \"Topic15\", \"Topic16\", \"Topic16\", \"Topic16\", \"Topic16\", \"Topic16\", \"Topic16\", \"Topic16\", \"Topic16\", \"Topic16\", \"Topic16\", \"Topic16\", \"Topic16\", \"Topic16\", \"Topic16\", \"Topic16\", \"Topic16\", \"Topic16\", \"Topic16\", \"Topic16\", \"Topic16\", \"Topic16\", \"Topic16\", \"Topic16\", \"Topic16\", \"Topic16\", \"Topic16\", \"Topic16\", \"Topic16\", \"Topic16\", \"Topic16\", \"Topic16\", \"Topic16\", \"Topic16\", \"Topic16\", \"Topic16\", \"Topic16\", \"Topic16\", \"Topic16\", \"Topic16\", \"Topic17\", \"Topic17\", \"Topic17\", \"Topic17\", \"Topic17\", \"Topic17\", \"Topic17\", \"Topic17\", \"Topic17\", \"Topic17\", \"Topic17\", \"Topic17\", \"Topic17\", \"Topic17\", \"Topic17\", \"Topic17\", \"Topic17\", \"Topic17\", \"Topic17\", \"Topic17\", \"Topic17\", \"Topic17\", \"Topic17\", \"Topic17\", \"Topic17\", \"Topic17\", \"Topic17\", \"Topic17\", \"Topic17\", \"Topic17\", \"Topic17\", \"Topic17\", \"Topic17\", \"Topic17\", \"Topic17\", \"Topic17\", \"Topic18\", \"Topic18\", \"Topic18\", \"Topic18\", \"Topic18\", \"Topic18\", \"Topic18\", \"Topic18\", \"Topic18\", \"Topic18\", \"Topic18\", \"Topic18\", \"Topic18\", \"Topic18\", \"Topic18\", \"Topic18\", \"Topic18\", \"Topic18\", \"Topic18\", \"Topic18\", \"Topic18\", \"Topic18\", \"Topic18\", \"Topic18\", \"Topic18\", \"Topic18\", \"Topic18\", \"Topic18\", \"Topic18\", \"Topic18\", \"Topic18\", \"Topic18\", \"Topic18\", \"Topic18\", \"Topic18\", \"Topic18\", \"Topic18\", \"Topic18\", \"Topic18\", \"Topic18\", \"Topic18\", \"Topic18\", \"Topic18\", \"Topic18\", \"Topic19\", \"Topic19\", \"Topic19\", \"Topic19\", \"Topic19\", \"Topic19\", \"Topic19\", \"Topic19\", \"Topic19\", \"Topic19\", \"Topic19\", \"Topic19\", \"Topic19\", \"Topic19\", \"Topic19\", \"Topic19\", \"Topic19\", \"Topic19\", \"Topic19\", \"Topic19\", \"Topic19\", \"Topic19\", \"Topic19\", \"Topic19\", \"Topic19\", \"Topic19\", \"Topic19\", \"Topic19\", \"Topic19\", \"Topic19\", \"Topic19\", \"Topic19\", \"Topic19\", \"Topic19\", \"Topic19\", \"Topic19\", \"Topic19\", \"Topic19\", \"Topic19\", \"Topic19\", \"Topic19\", \"Topic20\", \"Topic20\", \"Topic20\", \"Topic20\", \"Topic20\", \"Topic20\", \"Topic20\", \"Topic20\", \"Topic20\", \"Topic20\", \"Topic20\", \"Topic20\", \"Topic20\", \"Topic20\", \"Topic20\", \"Topic20\", \"Topic20\", \"Topic20\", \"Topic20\", \"Topic20\", \"Topic20\", \"Topic20\", \"Topic20\", \"Topic20\", \"Topic20\", \"Topic20\", \"Topic20\", \"Topic20\", \"Topic20\", \"Topic20\", \"Topic20\", \"Topic20\", \"Topic20\", \"Topic20\"], \"logprob\": [30.0, 29.0, 28.0, 27.0, 26.0, 25.0, 24.0, 23.0, 22.0, 21.0, 20.0, 19.0, 18.0, 17.0, 16.0, 15.0, 14.0, 13.0, 12.0, 11.0, 10.0, 9.0, 8.0, 7.0, 6.0, 5.0, 4.0, 3.0, 2.0, 1.0, -1.7552, -1.9271, -2.076, -2.3722, -2.9846, -3.2667, -3.3343, -3.3749, -3.6418, -3.7465, -3.7944, -4.2979, -4.6173, -4.638, -10.3372, -10.3383, -10.3392, -10.3397, -10.3397, -10.3397, -10.3401, -10.3402, -10.3398, -10.3402, -10.3404, -10.3403, -10.3403, -10.3403, -10.3403, -10.3403, -10.3402, -10.3403, -1.8016, -2.1035, -2.5365, -2.6657, -2.8232, -2.8482, -2.8554, -2.9757, -3.5556, -4.3641, -4.4536, -4.503, -4.7372, -4.8214, -4.8657, -5.012, -5.0778, -6.3399, -6.7138, -7.6843, -10.1782, -10.1773, -10.1786, -10.1786, -10.1787, -10.1788, -10.1786, -10.1788, -10.1784, -10.1787, -10.1787, -10.1786, -10.1785, -1.7098, -1.9645, -1.9921, -2.3935, -2.7259, -3.2905, -3.812, -4.1044, -4.1777, -4.3772, -4.4241, -4.8333, -5.5806, -5.6125, -6.0389, -6.6699, -7.9911, -10.1083, -10.1085, -10.1084, -10.1086, -10.1086, -10.1086, -10.1085, -10.1074, -10.1085, -10.1086, -10.1087, -10.1087, -10.1087, -10.1082, -10.1082, -10.1085, -10.1086, -1.7245, -2.3628, -2.8929, -2.9235, -2.9333, -2.9766, -3.3522, -3.4058, -3.4997, -3.6199, -3.6779, -3.7683, -3.9225, -4.0754, -4.1149, -4.1307, -4.5229, -5.2433, -7.0859, -10.092, -10.0924, -10.0924, -10.0912, -10.0925, -10.0925, -10.092, -10.0928, -10.0927, -10.0928, -10.0928, -10.0926, -10.0925, -10.0926, -10.0927, -1.9863, -2.0089, -2.3465, -2.8095, -2.8328, -3.1323, -3.5911, -3.6622, -3.6771, -4.1735, -4.3374, -4.6722, -4.7322, -5.1948, -5.3148, -5.8185, -6.4023, -7.3616, -8.1052, -9.8352, -9.8356, -9.8358, -9.8346, -9.8358, -9.8359, -9.8358, -9.8352, -9.836, -9.8359, -9.836, -9.8359, -9.8355, -9.8358, -1.5793, -2.5002, -2.7603, -2.8589, -3.1324, -3.3784, -3.5629, -3.582, -3.5829, -3.7206, -3.817, -3.8749, -4.0333, -4.3139, -4.459, -4.6529, -4.9556, -5.0086, -5.1843, -5.973, -6.7955, -9.9708, -9.971, -9.971, -9.971, -9.9712, -9.9711, -9.9711, -9.9709, -9.9711, -9.971, -9.9708, -9.971, -9.9708, -9.9707, -1.5229, -2.3661, -2.7301, -2.7993, -2.9115, -3.0388, -3.1898, -3.8922, -4.0038, -4.0692, -4.202, -4.4289, -4.557, -5.0125, -5.0962, -5.1908, -6.0922, -7.3847, -7.6915, -9.9145, -9.9155, -9.9155, -9.9158, -9.9157, -9.9157, -9.916, -9.916, -9.9157, -9.916, -9.916, -9.9158, -9.9156, -9.9159, -9.9157, -9.9158, -9.9157, -1.7884, -1.9285, -2.891, -3.0174, -3.067, -3.2309, -3.2924, -3.5149, -3.5969, -3.7567, -3.7659, -3.9284, -4.1608, -4.4152, -4.5294, -4.6352, -4.7096, -4.893, -6.0282, -8.6924, -10.0356, -10.0362, -10.036, -10.0369, -10.0369, -10.0369, -10.0369, -10.0367, -10.0369, -10.037, -10.0365, -10.0368, -10.0368, -10.0363, -10.0368, -0.9285, -2.5001, -2.8426, -3.102, -3.4334, -4.4913, -4.8836, -7.6661, -8.2167, -9.726, -9.7262, -9.7258, -9.7263, -9.7262, -9.7261, -9.7262, -9.7264, -9.7265, -9.7265, -9.7265, -9.7264, -9.7265, -9.7265, -9.7264, -9.7263, -9.7265, -9.7265, -9.7265, -9.7266, -9.7266, -9.7265, -9.7254, -9.7265, -9.7263, -9.7265, -9.7265, -1.4745, -2.0446, -2.2835, -2.6828, -3.0159, -3.0468, -3.2069, -3.698, -4.6337, -4.8426, -8.2021, -9.9568, -9.957, -9.9573, -9.9576, -9.9575, -9.9577, -9.9577, -9.9577, -9.9577, -9.9577, -9.9578, -9.9577, -9.9577, -9.9577, -9.9577, -9.9578, -9.9578, -9.9577, -9.9578, -9.9578, -9.9573, -9.9575, -9.9576, -9.9577, -1.7517, -1.7951, -2.8185, -3.4226, -3.4436, -3.8396, -3.8841, -4.0786, -4.1868, -4.2867, -4.3144, -4.4168, -4.7444, -7.1204, -9.6086, -9.609, -9.6085, -9.609, -9.609, -9.6091, -9.6091, -9.6086, -9.6091, -9.6091, -9.609, -9.609, -9.6091, -9.6091, -9.6091, -9.609, -9.6089, -9.6088, -9.609, -9.609, -9.609, -9.6086, -9.6089, -9.609, -9.609, -1.9925, -2.3774, -2.621, -2.7642, -3.0301, -3.0938, -3.2956, -3.5543, -3.6336, -3.6372, -3.7172, -4.2341, -4.3841, -4.4783, -4.8254, -5.7094, -9.7761, -9.777, -9.7773, -9.7773, -9.7773, -9.7773, -9.7771, -9.7771, -9.7774, -9.7774, -9.7774, -9.7774, -9.7774, -9.7773, -9.7774, -9.7773, -9.7774, -9.7772, -9.7774, -9.7773, -9.7773, -1.6529, -2.367, -2.5595, -2.6166, -2.6886, -3.3501, -3.3737, -3.8049, -4.5632, -5.0709, -9.6724, -9.6725, -9.6726, -9.6726, -9.6725, -9.6727, -9.6727, -9.6726, -9.6727, -9.6727, -9.6727, -9.6727, -9.6726, -9.6727, -9.6727, -9.6722, -9.6727, -9.6727, -9.6725, -9.6727, -9.6727, -9.6727, -9.6726, -9.6726, -9.6726, -9.6723, -9.6725, -9.6726, -9.6726, -9.6726, -9.6727, -1.7073, -1.7114, -2.9772, -3.0002, -3.1108, -3.6685, -3.8694, -3.9824, -4.1916, -4.415, -4.4567, -4.5858, -5.6678, -6.658, -8.2924, -9.7089, -9.709, -9.7091, -9.7091, -9.7093, -9.7093, -9.7093, -9.7093, -9.7093, -9.7091, -9.7093, -9.7093, -9.7094, -9.7093, -9.7092, -9.7093, -9.7092, -9.7092, -9.7091, -2.4027, -2.4586, -2.5454, -2.7172, -2.721, -2.8018, -3.2094, -3.5294, -4.5968, -9.4743, -9.4744, -9.4744, -9.4743, -9.4743, -9.4744, -9.4744, -9.4745, -9.4745, -9.4745, -9.4744, -9.4745, -9.4745, -9.4745, -9.4744, -9.4745, -9.4745, -9.4745, -9.4745, -9.4745, -9.4745, -9.4745, -9.4744, -9.4745, -9.4745, -9.4744, -9.4744, -9.4744, -9.4744, -9.4745, -9.4745, -9.4745, -9.4745, -9.4745, -1.7282, -1.8729, -2.5813, -2.9229, -3.1571, -4.8995, -5.3179, -9.4507, -9.4512, -9.4512, -9.4513, -9.4514, -9.4514, -9.4514, -9.4514, -9.4514, -9.4515, -9.4514, -9.4514, -9.4515, -9.4515, -9.4515, -9.4515, -9.4513, -9.4515, -9.4514, -9.4515, -9.4515, -9.4515, -9.4515, -9.4514, -9.4514, -9.4511, -9.4514, -9.4511, -9.4515, -9.4514, -9.4514, -9.4515, -1.6933, -3.1989, -3.3501, -3.3679, -3.5324, -3.5808, -3.8219, -3.8255, -3.8879, -4.0529, -4.2402, -4.6961, -5.2063, -5.7623, -7.7485, -9.3508, -9.3513, -9.3515, -9.3516, -9.3516, -9.3515, -9.3516, -9.3516, -9.3516, -9.3516, -9.3516, -9.3517, -9.3517, -9.3517, -9.3517, -9.3516, -9.3516, -9.3515, -9.3516, -9.3516, -9.3516, -1.692, -2.5211, -3.0417, -3.2603, -4.4476, -9.1768, -9.1768, -9.1768, -9.1768, -9.1767, -9.1767, -9.1769, -9.1768, -9.1769, -9.1769, -9.1769, -9.177, -9.1769, -9.1769, -9.1769, -9.1766, -9.177, -9.177, -9.177, -9.177, -9.177, -9.177, -9.177, -9.177, -9.177, -9.1769, -9.1769, -9.1769, -9.1768, -9.1769, -9.1769, -9.1768, -9.1763, -9.1769, -9.1769, -9.1769, -9.1768, -9.1769, -9.1769, -1.6324, -3.2337, -3.2605, -3.9936, -9.0719, -9.0719, -9.0719, -9.0719, -9.0719, -9.0719, -9.0719, -9.072, -9.072, -9.072, -9.072, -9.072, -9.0719, -9.0719, -9.0719, -9.072, -9.0719, -9.072, -9.072, -9.072, -9.072, -9.072, -9.072, -9.072, -9.072, -9.072, -9.0719, -9.0719, -9.072, -9.072, -9.072, -9.072, -9.0719, -9.072, -9.072, -9.072, -9.072, -2.0192, -3.2367, -3.2801, -5.009, -7.7309, -8.971, -8.9712, -8.9712, -8.9712, -8.9712, -8.9712, -8.9712, -8.9712, -8.9712, -8.9712, -8.9712, -8.9712, -8.9712, -8.9712, -8.9712, -8.9712, -8.9712, -8.9712, -8.9712, -8.9713, -8.9712, -8.9712, -8.9711, -8.9713, -8.9712, -8.9712, -8.9712, -8.9712, -8.9712], \"loglift\": [30.0, 29.0, 28.0, 27.0, 26.0, 25.0, 24.0, 23.0, 22.0, 21.0, 20.0, 19.0, 18.0, 17.0, 16.0, 15.0, 14.0, 13.0, 12.0, 11.0, 10.0, 9.0, 8.0, 7.0, 6.0, 5.0, 4.0, 3.0, 2.0, 1.0, 2.1068, 2.1063, 2.1059, 2.1048, 2.1013, 2.0988, 2.098, 2.0976, 2.0941, 2.0925, 2.0917, 2.0805, 2.0699, 2.0691, -0.4697, -0.4703, -0.4709, -0.4713, -0.4714, -0.4714, -0.4714, -0.4715, -0.4715, -0.4716, -0.4716, -0.4717, -0.4717, -0.4717, -0.4717, -0.4717, -0.4717, -0.4717, 2.4649, 2.4637, 2.4612, 2.4602, 2.4588, 2.4585, 2.4585, 2.4572, 2.4485, 2.4243, 2.4203, 2.4179, 2.405, 2.3997, 2.3967, 2.3858, 2.3804, 2.1871, 2.0817, 1.6593, -0.3097, -0.3098, -0.31, -0.3101, -0.3101, -0.3101, -0.3101, -0.3101, -0.3101, -0.3101, -0.3102, -0.3103, -0.3105, 2.5267, 2.5258, 2.5256, 2.5234, 2.5208, 2.5139, 2.5029, 2.4938, 2.4911, 2.4827, 2.4805, 2.4563, 2.3803, 2.3758, 2.3026, 2.1379, 1.5006, -0.2397, -0.2398, -0.2398, -0.2399, -0.2399, -0.2399, -0.2399, -0.2399, -0.2399, -0.2399, -0.2399, -0.2399, -0.2399, -0.24, -0.2402, -0.2402, -0.2403, 2.5476, 2.5445, 2.5399, 2.5396, 2.5395, 2.539, 2.5335, 2.5325, 2.5307, 2.5281, 2.5268, 2.5245, 2.5201, 2.5151, 2.5137, 2.5131, 2.4954, 2.4397, 1.9951, -0.2235, -0.2237, -0.2237, -0.2238, -0.2239, -0.2239, -0.224, -0.224, -0.224, -0.224, -0.2241, -0.2241, -0.2242, -0.2243, -0.2244, 2.6559, 2.6558, 2.6537, 2.6495, 2.6493, 2.6452, 2.6363, 2.6345, 2.6341, 2.6172, 2.6096, 2.59, 2.5857, 2.544, 2.5301, 2.4529, 2.3141, 1.9276, 1.4743, 0.0331, 0.033, 0.0329, 0.0329, 0.0328, 0.0328, 0.0328, 0.0328, 0.0328, 0.0328, 0.0328, 0.0328, 0.0327, 0.0324, 2.7422, 2.7367, 2.734, 2.7327, 2.7286, 2.7239, 2.7194, 2.7189, 2.7189, 2.715, 2.7119, 2.7099, 2.7039, 2.6907, 2.6823, 2.6692, 2.6435, 2.6382, 2.6188, 2.4848, 2.2277, -0.1022, -0.1022, -0.1023, -0.1024, -0.1024, -0.1024, -0.1024, -0.1024, -0.1024, -0.1024, -0.1025, -0.1025, -0.1028, -0.1032, 2.748, 2.7434, 2.7399, 2.7391, 2.7376, 2.7357, 2.7332, 2.7149, 2.7106, 2.7079, 2.7019, 2.6896, 2.6814, 2.6431, 2.6342, 2.6233, 2.4611, 1.9508, 1.7703, -0.047, -0.047, -0.047, -0.0471, -0.0471, -0.0471, -0.0472, -0.0472, -0.0473, -0.0473, -0.0473, -0.0473, -0.0474, -0.0473, -0.0475, -0.0474, -0.0477, 2.8372, 2.8364, 2.8271, 2.8251, 2.8242, 2.8211, 2.8198, 2.8142, 2.8119, 2.8067, 2.8064, 2.8002, 2.7895, 2.7747, 2.7669, 2.7588, 2.7526, 2.7355, 2.5419, 1.0456, -0.1676, -0.1677, -0.1677, -0.1681, -0.1681, -0.1681, -0.1681, -0.1682, -0.1682, -0.1682, -0.1682, -0.1682, -0.1682, -0.1688, -0.1683, 2.8887, 2.8803, 2.876, 2.8716, 2.8642, 2.8159, 2.7818, 1.8391, 1.4485, 0.1425, 0.1425, 0.1424, 0.1424, 0.1424, 0.1424, 0.1423, 0.1423, 0.1423, 0.1423, 0.1423, 0.1423, 0.1423, 0.1423, 0.1423, 0.1423, 0.1422, 0.1422, 0.1422, 0.1422, 0.1422, 0.1422, 0.1421, 0.1422, 0.142, 0.1421, 0.1421, 2.9234, 2.9203, 2.9184, 2.914, 2.9088, 2.9082, 2.9049, 2.8909, 2.837, 2.8171, 1.456, -0.0882, -0.0885, -0.0888, -0.0889, -0.0889, -0.0889, -0.0889, -0.0889, -0.0889, -0.089, -0.089, -0.089, -0.089, -0.089, -0.089, -0.089, -0.089, -0.089, -0.089, -0.089, -0.0898, -0.0895, -0.0894, -0.0891, 3.0769, 3.0767, 3.0654, 3.051, 3.0503, 3.0348, 3.0327, 3.0222, 3.0154, 3.0086, 3.0066, 2.9987, 2.9678, 2.2439, 0.2599, 0.2598, 0.2598, 0.2598, 0.2598, 0.2597, 0.2597, 0.2597, 0.2597, 0.2597, 0.2597, 0.2597, 0.2597, 0.2597, 0.2597, 0.2597, 0.2596, 0.2595, 0.2596, 0.2596, 0.2595, 0.2589, 0.2591, 0.2595, 0.2592, 3.0963, 3.0926, 3.0894, 3.0871, 3.0819, 3.0804, 3.0752, 3.0667, 3.0637, 3.0635, 3.0602, 3.0314, 3.02, 3.0121, 2.9762, 2.8184, 0.0922, 0.0916, 0.0915, 0.0915, 0.0915, 0.0914, 0.0914, 0.0914, 0.0914, 0.0914, 0.0914, 0.0914, 0.0914, 0.0914, 0.0913, 0.0913, 0.0913, 0.0911, 0.0912, 0.0907, 0.0902, 3.2706, 3.2635, 3.2606, 3.2596, 3.2583, 3.2408, 3.2399, 3.2203, 3.1592, 3.088, 0.1963, 0.1963, 0.1962, 0.1962, 0.1961, 0.1961, 0.1961, 0.1961, 0.1961, 0.1961, 0.1961, 0.1961, 0.1961, 0.1961, 0.1961, 0.1961, 0.1961, 0.1961, 0.1961, 0.1961, 0.1961, 0.1961, 0.196, 0.196, 0.196, 0.1952, 0.1957, 0.1957, 0.1954, 0.1956, 0.1958, 3.3181, 3.318, 3.2989, 3.2983, 3.2951, 3.273, 3.2616, 3.2542, 3.2383, 3.2176, 3.2133, 3.1988, 2.9898, 2.5959, 1.4527, 0.1598, 0.1597, 0.1597, 0.1597, 0.1595, 0.1595, 0.1595, 0.1595, 0.1595, 0.1595, 0.1595, 0.1595, 0.1594, 0.1594, 0.1594, 0.1593, 0.1591, 0.1592, 0.1584, 3.6212, 3.6201, 3.6181, 3.6137, 3.6136, 3.6112, 3.5961, 3.5793, 3.4695, 0.3944, 0.3944, 0.3944, 0.3944, 0.3944, 0.3943, 0.3943, 0.3943, 0.3943, 0.3943, 0.3943, 0.3943, 0.3943, 0.3943, 0.3943, 0.3943, 0.3943, 0.3943, 0.3943, 0.3943, 0.3943, 0.3943, 0.3943, 0.3943, 0.3943, 0.3942, 0.3942, 0.3942, 0.3941, 0.3943, 0.394, 0.3943, 0.3943, 0.3942, 3.7625, 3.7606, 3.7463, 3.735, 3.7248, 3.5183, 3.4072, 0.4176, 0.4176, 0.4175, 0.4175, 0.4174, 0.4174, 0.4174, 0.4174, 0.4174, 0.4174, 0.4173, 0.4173, 0.4173, 0.4173, 0.4173, 0.4173, 0.4173, 0.4173, 0.4173, 0.4173, 0.4173, 0.4173, 0.4173, 0.4173, 0.4172, 0.417, 0.4172, 0.4164, 0.4172, 0.4171, 0.4168, 0.417, 3.895, 3.8492, 3.8398, 3.8386, 3.8267, 3.8228, 3.8006, 3.8003, 3.7937, 3.7744, 3.7489, 3.6671, 3.5337, 3.3247, 1.9949, 0.5177, 0.5174, 0.5173, 0.5172, 0.5172, 0.5172, 0.5172, 0.5172, 0.5172, 0.5172, 0.5171, 0.5171, 0.5171, 0.5171, 0.5171, 0.5171, 0.5171, 0.517, 0.517, 0.5167, 0.517, 3.9237, 3.9062, 3.8854, 3.8731, 3.7403, 0.692, 0.692, 0.692, 0.692, 0.6919, 0.6919, 0.6919, 0.6919, 0.6919, 0.6919, 0.6919, 0.6919, 0.6919, 0.6919, 0.6919, 0.6919, 0.6919, 0.6919, 0.6919, 0.6918, 0.6918, 0.6918, 0.6918, 0.6918, 0.6918, 0.6918, 0.6918, 0.6918, 0.6918, 0.6918, 0.6918, 0.6918, 0.6912, 0.6918, 0.6918, 0.6918, 0.6915, 0.6916, 0.6917, 4.4126, 4.3318, 4.3291, 4.2268, 0.7969, 0.7969, 0.7969, 0.7969, 0.7969, 0.7969, 0.7969, 0.7969, 0.7968, 0.7968, 0.7968, 0.7968, 0.7968, 0.7968, 0.7968, 0.7968, 0.7968, 0.7968, 0.7968, 0.7968, 0.7968, 0.7968, 0.7968, 0.7968, 0.7968, 0.7968, 0.7968, 0.7968, 0.7968, 0.7968, 0.7968, 0.7968, 0.7967, 0.7964, 0.7961, 0.7968, 0.7967, 5.0421, 4.9098, 4.902, 4.2895, 2.102, 0.8977, 0.8976, 0.8976, 0.8976, 0.8976, 0.8976, 0.8976, 0.8976, 0.8976, 0.8976, 0.8976, 0.8976, 0.8976, 0.8976, 0.8976, 0.8976, 0.8976, 0.8976, 0.8976, 0.8976, 0.8976, 0.8976, 0.8976, 0.8976, 0.8975, 0.8975, 0.8975, 0.8975, 0.8974]}, \"token.table\": {\"Topic\": [6, 7, 11, 4, 6, 10, 2, 7, 5, 8, 5, 3, 3, 11, 7, 5, 7, 10, 12, 1, 3, 18, 11, 12, 1, 1, 8, 4, 13, 18, 2, 8, 19, 17, 16, 2, 14, 17, 20, 4, 2, 4, 14, 6, 6, 16, 7, 7, 6, 6, 7, 15, 8, 17, 9, 5, 13, 6, 5, 2, 4, 6, 1, 3, 4, 14, 7, 20, 8, 8, 17, 2, 13, 14, 6, 13, 6, 6, 10, 14, 10, 11, 12, 12, 6, 8, 9, 2, 7, 1, 11, 2, 13, 14, 6, 18, 8, 15, 3, 15, 13, 11, 16, 3, 14, 11, 7, 7, 6, 18, 19, 19, 7, 20, 8, 13, 9, 17, 16, 8, 6, 8, 5, 8, 15, 1, 7, 11, 6, 14, 12, 12, 11, 3, 11, 6, 3, 6, 9, 1, 10, 12, 8, 4, 4, 4, 3, 1, 4, 5, 11, 12, 2, 4, 3, 4, 5, 17, 5, 17, 14, 2, 10, 7, 17, 17, 2, 2, 2, 5, 14, 17, 20, 9, 17, 5, 10, 19, 14, 13, 7, 4, 3, 3, 10, 8, 6, 7, 4, 10, 12, 9, 12, 8, 14, 18, 8, 4, 2, 4, 4, 12, 10, 13, 5, 7, 10, 5, 1, 2, 1, 6, 15, 2, 12, 12, 13, 3, 9, 14, 7, 1, 5, 12, 17, 12, 2, 3, 15, 16, 12, 5, 16, 4, 6, 15, 17, 8, 17, 3, 11, 5, 2, 2, 3, 14, 16, 1, 9, 1, 8, 1, 11, 5, 11, 5, 15, 2, 15, 9, 3, 8, 4, 5, 7], \"Freq\": [0.7375148589012799, 0.9854730105084559, 0.9102512634192457, 0.9062464963253245, 0.9080765960392237, 0.8853486415045267, 0.9297746280442721, 0.8817835441486014, 0.5645792080317201, 0.9527526596748348, 0.8657372094760502, 0.7659099273208068, 0.9953967654369151, 0.9658314924070067, 0.3354791891748153, 0.636764584249919, 0.988331659647827, 0.9672614647504632, 0.954366399486495, 0.9959919215627447, 0.9621973026787448, 0.9574474418909289, 0.8747942742921287, 0.9596144968343723, 0.9605669966473885, 0.9860735877833434, 0.9947048394502718, 0.9856705597666531, 0.9847465524157281, 0.9479997235427399, 0.9516425607395531, 0.9118528456377661, 0.9064943706929383, 0.9831580972973893, 0.9848233947126483, 0.9278893999157353, 0.5450385879910443, 0.8461884082366267, 0.8103028728788075, 0.961737254975846, 0.989196855255389, 0.9666842129944978, 0.7504886328673571, 0.9484235874983615, 0.9960198948052967, 0.9785337143892356, 0.9614948317841968, 0.9827764330949651, 0.9771097474360102, 0.8940736613273144, 0.9440832016522462, 0.965568051990819, 0.9817892761645663, 0.8506493158854407, 0.4111678104580787, 0.996229423966555, 0.9720153616786528, 0.649049134915802, 0.9769950796308376, 0.9235140578959374, 0.9815643411947595, 0.9762214578413426, 0.9903338508378354, 0.9943749514599277, 0.9854936486799769, 0.9710168468822667, 0.904029382283953, 0.9429350711678066, 0.9772389022457464, 0.9333568121365304, 0.9012534088615105, 0.9906893850372657, 0.8204401073556907, 0.8776985384790745, 0.9911729288625122, 0.9934696501310247, 0.885395787235302, 0.9633127082410542, 0.9160586897878595, 0.9444358842438682, 0.4082516998701354, 0.963273578525127, 0.9343202208479038, 0.9772084012294212, 0.9669654973072583, 0.9662310179234872, 0.9976755395164716, 0.9924003543473824, 0.9614975182309281, 0.9624913903575312, 0.9456074439423533, 0.7904139013324191, 0.9857643217548446, 0.9424500581795233, 0.8739875579193928, 0.8445417640665154, 0.9699505712278693, 0.980976751412707, 0.3456241022188298, 0.9791566895769978, 0.9388508461984703, 0.9070839118850945, 0.8266728131935361, 0.9172842933843488, 0.9928716595885249, 0.9476516524971786, 0.9676030422075752, 0.9911298766514239, 0.9792919785354229, 0.9680860505855666, 0.9798422392576358, 0.7754916587697684, 0.8908867983501209, 0.8396713985866197, 0.9800275696635019, 0.8837014912847777, 0.8903717115906415, 0.652008032358534, 0.642327158654952, 0.9845276276636783, 0.9901366006656819, 0.9340173916334995, 0.9865092478453656, 0.9755349537500717, 0.9791329350261548, 0.9873962961244519, 0.9842011203679533, 0.9945212126916225, 0.9679167666195471, 0.923504224947733, 0.9911463072363457, 0.9847538863695118, 0.9839241656443178, 0.8974307580107264, 0.9588389830601792, 0.9864107219339537, 0.9960441019177572, 0.9644882874904191, 0.984035291908123, 0.9855380127641505, 0.9768971983944803, 0.9901470861827115, 0.9234106863512096, 0.9917108359805445, 0.9669252019206155, 0.9908139813991877, 0.9450365779389329, 0.9876625506693276, 0.9796626843773778, 0.991369798550329, 0.9949626789087809, 0.9617266237794417, 0.9945678937978427, 0.9966192708700258, 0.9910751888565796, 0.987749787627823, 0.9514785920718171, 0.9063803629999867, 0.9906838814878057, 0.4612301261868294, 0.978829726201904, 0.9965665963628533, 0.9943361556445289, 0.8114114714656715, 0.9496873552365168, 0.8994364500608676, 0.9583555958606266, 0.689234787505905, 0.9369202003359175, 0.9858066673822579, 0.9927899365771393, 0.9305981314717554, 0.5698029728194106, 0.9911670616748888, 0.9049299477514469, 0.8160619945113549, 0.9902053631558034, 0.8770889686713438, 0.8945006141502405, 0.9780778514600749, 0.997284134315411, 0.9687782681572551, 0.9866006937185452, 0.9571787070043498, 0.996575982389946, 0.9958518523136096, 0.9800184802304738, 0.5913572023038016, 0.9764680722693071, 0.9845248746098669, 0.9326991116681799, 0.9334838270231461, 0.9511135865195615, 0.6876143974840094, 0.9458560023336813, 0.9889523528819731, 0.9653354043817969, 0.9324017747313083, 0.9927495836744645, 0.976277103353568, 0.6876893074232355, 0.9770508237796968, 0.9859036114189444, 0.9892243656564607, 0.9296471206373316, 0.9340385475978342, 0.9860143232921715, 0.9435852816551099, 0.9914245562010101, 0.9909282538229742, 0.9679334415637885, 0.9226516081190165, 0.9670584701050609, 0.9909443998558586, 0.9759428172169156, 0.8999929255829837, 0.9691433308772739, 0.9655008881121184, 0.3503521469444165, 0.9634441140784187, 0.9656027958520006, 0.9974970537171416, 0.993973173885852, 0.7909832748428234, 0.9340369045623028, 0.8928063643134561, 0.9492771393672401, 0.6977351078634343, 0.970673675596393, 0.9550565623083611, 0.9795616610686703, 0.976948779755616, 0.9405911020171018, 0.9905284738895059, 0.9677736532417024, 0.9248718724948817, 0.9093214068630655, 0.908432895777614, 0.7828183993020232, 0.8455133033604061, 0.9492755481780288, 0.94968099856627, 0.9827985249953382, 0.90478457881493, 0.9941418572997963, 0.9155661897641529, 0.986574018715145, 0.9859672145612958, 0.984986913066818, 0.9971238965831225, 0.9613863453453436, 0.9960705034318351, 0.9225223020520135, 0.9776225295914552, 0.3043047691679082, 0.37737386840797293, 0.830976845357139, 0.2980784526235463, 0.9702835333659898, 0.9779442619691677, 0.96612590287025, 0.9596243420865035, 0.9732034606860607, 0.898429834260495, 0.9935750838165416], \"Term\": [\"abierto\", \"advertir\", \"afirmar\", \"agresion\", \"alertar\", \"alianza\", \"alto\", \"alto_fuego\", \"alza\", \"amenazar\", \"america\", \"america_latino\", \"ano\", \"ano_prision\", \"anti\", \"aprobacion\", \"aprobar\", \"argentino\", \"asalto_capitolio\", \"asegurar\", \"asesinado\", \"asesinato\", \"asesino\", \"asilo\", \"atacante\", \"atacar\", \"ataque\", \"aumentar\", \"autoridad\", \"avance\", \"ayuda_humanitario\", \"base\", \"bedir\", \"brasil\", \"buscar\", \"canada\", \"canciller\", \"capitolio\", \"carcel\", \"cargo\", \"caso\", \"causar\", \"cese\", \"chile\", \"chino\", \"ciudad\", \"civil\", \"colombio\", \"comenzar\", \"consecuencia\", \"considerar\", \"contagio\", \"corrupcion\", \"costa\", \"costa_rico\", \"covid\", \"criticar\", \"cuarto\", \"cuba\", \"cubo\", \"dano\", \"defender\", \"defensa\", \"dejar\", \"dejar_menos\", \"democracia\", \"dentro\", \"denunciar\", \"desaparecido\", \"desplegar\", \"detectar\", \"dia\", \"discurso\", \"dividir\", \"donald_trump\", \"dos\", \"dosis\", \"economico\", \"edificio\", \"emergencia\", \"encuentro\", \"enfrentar\", \"entrada\", \"enviar\", \"esperar\", \"estadounidense\", \"eua\", \"euo\", \"europa\", \"europo\", \"evaluar\", \"experto\", \"expresidente\", \"extender\", \"fallecido\", \"falta\", \"fiscal\", \"florido\", \"floyd\", \"francia\", \"francio\", \"futuro\", \"general\", \"george\", \"gobierno\", \"golpe\", \"hablar\", \"hacer\", \"hacia\", \"haiti\", \"herido\", \"hijo\", \"hoy\", \"humano\", \"incendio\", \"incendio_forestal\", \"instar\", \"interior\", \"investigaci\\u00f3n\", \"investigar\", \"ir\", \"irak\", \"iran\", \"isla\", \"israel\", \"italia\", \"japon\", \"joe_biden\", \"joven\", \"kamala_harris\", \"ley\", \"lider\", \"llamar\", \"lunes\", \"mandato\", \"mantener\", \"mas\", \"mayor\", \"medida\", \"medio\", \"menos\", \"mexico\", \"mientras\", \"migrante\", \"mil\", \"militar\", \"millon\", \"mill\\u00f3n\", \"mill\\u00f3n_dolar\", \"misil\", \"morir\", \"mostrar\", \"muerte\", \"muerto\", \"mujer\", \"mundo\", \"negociar\", \"nicaraguo\", \"nino\", \"noruego\", \"nuclear\", \"nuevo\", \"nuevo_york\", \"obamo\", \"ocho\", \"oficial\", \"ofrecer\", \"ola\", \"omicron\", \"oms\", \"onu\", \"ordenar\", \"organizacion\", \"otan\", \"pacifico\", \"pacto_nuclear\", \"pais\", \"pandemia\", \"parte\", \"paz\", \"pedir\", \"perder\", \"periodista\", \"permitir\", \"persona\", \"peru\", \"pese\", \"pfizer\", \"plan\", \"poder\", \"politico\", \"poner_fin\", \"posible\", \"presencia\", \"presidencia\", \"presidente\", \"presunto\", \"prever\", \"primero\", \"primero_ministro\", \"principe\", \"prision\", \"prohibir\", \"protesta\", \"provincia\", \"quedar\", \"realizar\", \"rebelde\", \"rechazar\", \"recibir\", \"reducir\", \"refuerzo\", \"registrar\", \"reportar\", \"republicano\", \"responsable\", \"restricci\\u00f3n\", \"resultar_herido\", \"retomar\", \"reunion\", \"riesgo\", \"rusia\", \"rusio\", \"saber\", \"sacudir\", \"sancionar\", \"sanci\\u00f3n\", \"saudi\", \"seguir\", \"seguridad\", \"seis\", \"semana\", \"senado\", \"ser\", \"si\", \"siete\", \"sismo\", \"sufrir\", \"sumar\", \"superar\", \"supremo\", \"sur\", \"tener\", \"tercero\", \"tiroteo\", \"todo\", \"tres\", \"tropa\", \"trump\", \"ucrania\", \"ultimo\", \"unido\", \"usar\", \"vacuna\", \"vacunacion\", \"vacunar\", \"variante\", \"variante_omicron\", \"vida\", \"violencia\", \"visitar\", \"vivienda\", \"vuelo\", \"yemen\", \"\\u00e9l\"]}, \"R\": 30, \"lambda.step\": 0.01, \"plot.opts\": {\"xlab\": \"PC1\", \"ylab\": \"PC2\"}, \"topic.order\": [2, 1, 11, 9, 14, 6, 4, 8, 13, 7, 16, 17, 12, 3, 15, 19, 20, 18, 5, 10]};\n",
       "\n",
       "function LDAvis_load_lib(url, callback){\n",
       "  var s = document.createElement('script');\n",
       "  s.src = url;\n",
       "  s.async = true;\n",
       "  s.onreadystatechange = s.onload = callback;\n",
       "  s.onerror = function(){console.warn(\"failed to load library \" + url);};\n",
       "  document.getElementsByTagName(\"head\")[0].appendChild(s);\n",
       "}\n",
       "\n",
       "if(typeof(LDAvis) !== \"undefined\"){\n",
       "   // already loaded: just create the visualization\n",
       "   !function(LDAvis){\n",
       "       new LDAvis(\"#\" + \"ldavis_el1335214821146833921976093219\", ldavis_el1335214821146833921976093219_data);\n",
       "   }(LDAvis);\n",
       "}else if(typeof define === \"function\" && define.amd){\n",
       "   // require.js is available: use it to load d3/LDAvis\n",
       "   require.config({paths: {d3: \"https://d3js.org/d3.v5\"}});\n",
       "   require([\"d3\"], function(d3){\n",
       "      window.d3 = d3;\n",
       "      LDAvis_load_lib(\"https://cdn.jsdelivr.net/gh/bmabey/pyLDAvis@3.4.0/pyLDAvis/js/ldavis.v3.0.0.js\", function(){\n",
       "        new LDAvis(\"#\" + \"ldavis_el1335214821146833921976093219\", ldavis_el1335214821146833921976093219_data);\n",
       "      });\n",
       "    });\n",
       "}else{\n",
       "    // require.js not available: dynamically load d3 & LDAvis\n",
       "    LDAvis_load_lib(\"https://d3js.org/d3.v5.js\", function(){\n",
       "         LDAvis_load_lib(\"https://cdn.jsdelivr.net/gh/bmabey/pyLDAvis@3.4.0/pyLDAvis/js/ldavis.v3.0.0.js\", function(){\n",
       "                 new LDAvis(\"#\" + \"ldavis_el1335214821146833921976093219\", ldavis_el1335214821146833921976093219_data);\n",
       "            })\n",
       "         });\n",
       "}\n",
       "</script>"
      ],
      "text/plain": [
       "PreparedData(topic_coordinates=              x         y  topics  cluster       Freq\n",
       "topic                                                \n",
       "1     -0.192185  0.369174       1        1  12.135378\n",
       "0      0.008219 -0.394672       2        1   8.472234\n",
       "10     0.244086  0.299311       3        1   7.965194\n",
       "8     -0.224979 -0.298105       4        1   7.799534\n",
       "13    -0.142705  0.208542       5        1   6.988680\n",
       "5      0.042460  0.325736       6        1   6.419140\n",
       "3      0.358567 -0.040862       7        1   6.383191\n",
       "7     -0.356493 -0.085106       8        1   5.829633\n",
       "12     0.210798  0.159563       9        1   5.552857\n",
       "6     -0.305168  0.136451      10        1   5.353749\n",
       "15    -0.133616 -0.158641      11        1   4.581939\n",
       "16     0.100754 -0.268976      12        1   4.485372\n",
       "11    -0.215618 -0.007208      13        1   3.772589\n",
       "2      0.236251 -0.196313      14        1   3.594997\n",
       "14     0.151223 -0.080332      15        1   2.619938\n",
       "18     0.195485  0.032662      16        1   2.294473\n",
       "19     0.022891  0.099387      17        1   2.007116\n",
       "17     0.007776 -0.086173      18        1   1.949831\n",
       "4     -0.029831 -0.013020      19        1   1.186516\n",
       "9      0.022084 -0.001416      20        1   0.607639, topic_info=                Term        Freq       Total Category  logprob  loglift\n",
       "104              eua  842.000000  842.000000  Default  30.0000  30.0000\n",
       "314            rusia  806.000000  806.000000  Default  29.0000  29.0000\n",
       "98             pedir  535.000000  535.000000  Default  28.0000  28.0000\n",
       "421          ucrania  678.000000  678.000000  Default  27.0000  27.0000\n",
       "300            chino  509.000000  509.000000  Default  26.0000  26.0000\n",
       "...              ...         ...         ...      ...      ...      ...\n",
       "3403        suicidio    0.029584    1.984294  Topic20  -8.9712   0.8975\n",
       "1288          varios    0.029585    1.984391  Topic20  -8.9712   0.8975\n",
       "2595        salvador    0.029585    1.984556  Topic20  -8.9712   0.8975\n",
       "946           masivo    0.029585    1.984567  Topic20  -8.9712   0.8975\n",
       "1507  papa_francisco    0.029585    1.984577  Topic20  -8.9712   0.8974\n",
       "\n",
       "[761 rows x 6 columns], token_table=      Topic      Freq      Term\n",
       "term                           \n",
       "44        6  0.737515   abierto\n",
       "216       7  0.985473  advertir\n",
       "158      11  0.910251   afirmar\n",
       "0         4  0.906246  agresion\n",
       "362       6  0.908077   alertar\n",
       "...     ...       ...       ...\n",
       "355       3  0.966126   visitar\n",
       "15        8  0.959624  vivienda\n",
       "29        4  0.973203     vuelo\n",
       "397       5  0.898430     yemen\n",
       "307       7  0.993575        él\n",
       "\n",
       "[265 rows x 3 columns], R=30, lambda_step=0.01, plot_opts={'xlab': 'PC1', 'ylab': 'PC2'}, topic_order=[2, 1, 11, 9, 14, 6, 4, 8, 13, 7, 16, 17, 12, 3, 15, 19, 20, 18, 5, 10])"
      ]
     },
     "execution_count": 9,
     "metadata": {},
     "output_type": "execute_result"
    }
   ],
   "source": [
    "#Visualización de los datos\n",
    "pyLDAvis.enable_notebook()\n",
    "vis = pyLDAvis.gensim.prepare(lda_model, corpus, id2word, mds=\"mmds\", R=30)\n",
    "vis\n"
   ]
  }
 ],
 "metadata": {
  "kernelspec": {
   "display_name": "Python 3",
   "language": "python",
   "name": "python3"
  },
  "language_info": {
   "codemirror_mode": {
    "name": "ipython",
    "version": 3
   },
   "file_extension": ".py",
   "mimetype": "text/x-python",
   "name": "python",
   "nbconvert_exporter": "python",
   "pygments_lexer": "ipython3",
   "version": "3.8.5"
  },
  "toc": {
   "base_numbering": 1
  }
 },
 "nbformat": 4,
 "nbformat_minor": 4
}
